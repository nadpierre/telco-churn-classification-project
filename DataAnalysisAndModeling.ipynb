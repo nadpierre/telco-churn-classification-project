{
 "cells": [
  {
   "cell_type": "markdown",
   "id": "7bb52442-05f0-4b9d-ad0f-4c795f04e791",
   "metadata": {},
   "source": [
    "# Telco Churn Classification Project"
   ]
  },
  {
   "cell_type": "markdown",
   "id": "425bdfaf-e5fc-448f-b53a-6f6e6bbcc140",
   "metadata": {},
   "source": [
    "## Overview"
   ]
  },
  {
   "cell_type": "markdown",
   "id": "b7c895c8-1df9-4a7c-9910-0b87e479277c",
   "metadata": {},
   "source": [
    "### Goal\n",
    "This python code analyzes data of a fictional telco company that provided home phone and internet services to 7043 customers in California in Q3. The goal is build a classification model that could predict if a customer will churn or not. Below are the questions that the project answers.\n",
    "\n",
    "* What is the overall count of churn value?\n",
    "* What is the percentage of male vs. female by churn value?\n",
    "* What is the churn value count by contract type?\n",
    "* Is there a relationship between churn value and monthly charges?\n",
    "* What's the most popular payment method?\n",
    "* Do more people enroll in device protection?\n",
    "* What is the percentage of people who go paperless?\n",
    "* What are the top 5 reasons why customers churn?\n",
    "* What is the most correlated factor to churn value?"
   ]
  },
  {
   "cell_type": "markdown",
   "id": "030f95a3-eea9-4e62-bdfd-5035a659ea5a",
   "metadata": {},
   "source": [
    "### Data\n",
    "The initial dataset contains 7042 rows, each representing a customer, and 33 columns."
   ]
  },
  {
   "cell_type": "markdown",
   "id": "b022d87d-d3ef-4de8-bbca-a5c7635dbf0e",
   "metadata": {},
   "source": [
    "#### Variables\n",
    "**Demographics**\n",
    "\n",
    "CustomerID: A unique ID that identifies each customer.\n",
    "Count: A value used in reporting/dashboarding to sum up the number of customers in a filtered set.\n",
    "Gender: The customer’s gender: Male, Female\n",
    "Age: The customer’s current age, in years, at the time the fiscal quarter ended.\n",
    "Senior Citizen: Indicates if the customer is 65 or older: Yes, No\n",
    "Married: Indicates if the customer is married: Yes, No\n",
    "Dependents: Indicates if the customer lives with any dependents: Yes, No. Dependents could be children, parents, grandparents, etc.\n",
    "Number of Dependents: Indicates the number of dependents that live with the customer.\n",
    "\n",
    "**Location**\n",
    "CustomerID: A unique ID that identifies each customer.\n",
    "Count: A value used in reporting/dashboarding to sum up the number of customers in a filtered set.\n",
    "Country: The country of the customer’s primary residence.\n",
    "State: The state of the customer’s primary residence.\n",
    "City: The city of the customer’s primary residence.\n",
    "Zip Code: The zip code of the customer’s primary residence.\n",
    "Lat Long: The combined latitude and longitude of the customer’s primary residence.\n",
    "Latitude: The latitude of the customer’s primary residence.\n",
    "Longitude: The longitude of the customer’s primary residence.\n",
    "\n",
    "**Population**\n",
    "ID: A unique ID that identifies each row.\n",
    "Zip Code: The zip code of the customer’s primary residence.\n",
    "Population: A current population estimate for the entire Zip Code area.\n",
    " \n",
    "**Services**\n",
    "CustomerID: A unique ID that identifies each customer.\n",
    "Count: A value used in reporting/dashboarding to sum up the number of customers in a filtered set.\n",
    "Quarter: The fiscal quarter that the data has been derived from (e.g. Q3).\n",
    "Referred a Friend: Indicates if the customer has ever referred a friend or family member to this company: Yes, No\n",
    "Number of Referrals: Indicates the number of referrals to date that the customer has made.\n",
    "Tenure in Months: Indicates the total amount of months that the customer has been with the company by the end of the quarter specified above.\n",
    "Offer: Identifies the last marketing offer that the customer accepted, if applicable. Values include None, Offer A, Offer B, Offer C, Offer D, and Offer E.\n",
    "Phone Service: Indicates if the customer subscribes to home phone service with the company: Yes, No\n",
    "Avg Monthly Long Distance Charges: Indicates the customer’s average long distance charges, calculated to the end of the quarter specified above.\n",
    "Multiple Lines: Indicates if the customer subscribes to multiple telephone lines with the company: Yes, No\n",
    "Internet Service: Indicates if the customer subscribes to Internet service with the company: No, DSL, Fiber Optic, Cable.\n",
    "Avg Monthly GB Download: Indicates the customer’s average download volume in gigabytes, calculated to the end of the quarter specified above.\n",
    "Online Security: Indicates if the customer subscribes to an additional online security service provided by the company: Yes, No\n",
    "Online Backup: Indicates if the customer subscribes to an additional online backup service provided by the company: Yes, No\n",
    "Device Protection Plan: Indicates if the customer subscribes to an additional device protection plan for their Internet equipment provided by the company: Yes, No\n",
    "Premium Tech Support: Indicates if the customer subscribes to an additional technical support plan from the company with reduced wait times: Yes, No\n",
    "Streaming TV: Indicates if the customer uses their Internet service to stream television programing from a third party provider: Yes, No. The company does not charge an additional fee for this service.\n",
    "Streaming Movies: Indicates if the customer uses their Internet service to stream movies from a third party provider: Yes, No. The company does not charge an additional fee for this service.\n",
    "Streaming Music: Indicates if the customer uses their Internet service to stream music from a third party provider: Yes, No. The company does not charge an additional fee for this service.\n",
    "Unlimited Data: Indicates if the customer has paid an additional monthly fee to have unlimited data downloads/uploads: Yes, No\n",
    "Contract: Indicates the customer’s current contract type: Month-to-Month, One Year, Two Year.\n",
    "Paperless Billing: Indicates if the customer has chosen paperless billing: Yes, No\n",
    "Payment Method: Indicates how the customer pays their bill: Bank Withdrawal, Credit Card, Mailed Check\n",
    "Monthly Charge: Indicates the customer’s current total monthly charge for all their services from the company.\n",
    "Total Charges: Indicates the customer’s total charges, calculated to the end of the quarter specified above.\n",
    "Total Refunds: Indicates the customer’s total refunds, calculated to the end of the quarter specified above.\n",
    "Total Extra Data Charges: Indicates the customer’s total charges for extra data downloads above those specified in their plan, by the end of the quarter specified above.\n",
    "Total Long Distance Charges: Indicates the customer’s total charges for long distance above those specified in their plan, by the end of the quarter specified above.\n",
    "\n",
    "**Status**\n",
    "CustomerID: A unique ID that identifies each customer.\n",
    "Count: A value used in reporting/dashboarding to sum up the number of customers in a filtered set.\n",
    "Quarter: The fiscal quarter that the data has been derived from (e.g. Q3).\n",
    "Satisfaction Score: A customer’s overall satisfaction rating of the company from 1 (Very Unsatisfied) to 5 (Very Satisfied).\n",
    "Satisfaction Score Label: Indicates the text version of the score (1-5) as a text string.\n",
    "Customer Status: Indicates the status of the customer at the end of the quarter: Churned, Stayed, or Joined\n",
    "Churn Label: Yes = the customer left the company this quarter. No = the customer remained with the company. Directly related to Churn Value.\n",
    "Churn Value: 1 = the customer left the company this quarter. 0 = the customer remained with the company. Directly related to Churn Label.\n",
    "Churn Score: A value from 0-100 that is calculated using the predictive tool IBM SPSS Modeler. The model incorporates multiple factors known to cause churn. The higher the score, the more likely the customer will churn.\n",
    "Churn Score Category: A calculation that assigns a Churn Score to one of the following categories: 0-10, 11-20, 21-30, 31-40, 41-50, 51-60, 61-70, 71-80, 81-90, and 91-100\n",
    "CLTV: Customer Lifetime Value. A predicted CLTV is calculated using corporate formulas and existing data. The higher the value, the more valuable the customer. High value customers should be monitored for churn.\n",
    "CLTV Category: A calculation that assigns a CLTV value to one of the following categories: 2000-2500, 2501-3000, 3001-3500, 3501-4000, 4001-4500, 4501-5000, 5001-5500, 5501-6000, 6001-6500, and 6501-7000.\n",
    "Churn Category: A high-level category for the customer’s reason for churning: Attitude, Competitor, Dissatisfaction, Other, Price. When they leave the company, all customers are asked about their reasons for leaving. Directly related to Churn Reason.\n",
    "Churn Reason: A customer’s specific reason for leaving the company. Directly related to Churn Category.\n",
    "\n",
    "Source: https://community.ibm.com/community/user/businessanalytics/blogs/steven-macko/2019/07/11/telco-customer-churn-1113"
   ]
  },
  {
   "cell_type": "markdown",
   "id": "cee5cd02-5a9f-4326-af86-125f905ca61c",
   "metadata": {},
   "source": [
    "## Data Exploration"
   ]
  },
  {
   "cell_type": "code",
   "execution_count": 8,
   "id": "948cd261-25a1-473f-aaab-71ac5a3f045f",
   "metadata": {},
   "outputs": [],
   "source": [
    "import matplotlib.pyplot as plt\n",
    "import numpy as np\n",
    "import pandas as pd\n",
    "import seaborn as sns"
   ]
  },
  {
   "cell_type": "code",
   "execution_count": 9,
   "id": "a1e0fd5b-0fd2-431d-b615-68e7f64f8a41",
   "metadata": {},
   "outputs": [],
   "source": [
    "# Load data\n",
    "df = pd.read_excel('data/churn.xlsx')"
   ]
  },
  {
   "cell_type": "code",
   "execution_count": 10,
   "id": "94f1ead3-1013-4756-98b6-3cbe27207999",
   "metadata": {},
   "outputs": [
    {
     "data": {
      "text/html": [
       "<div>\n",
       "<style scoped>\n",
       "    .dataframe tbody tr th:only-of-type {\n",
       "        vertical-align: middle;\n",
       "    }\n",
       "\n",
       "    .dataframe tbody tr th {\n",
       "        vertical-align: top;\n",
       "    }\n",
       "\n",
       "    .dataframe thead th {\n",
       "        text-align: right;\n",
       "    }\n",
       "</style>\n",
       "<table border=\"1\" class=\"dataframe\">\n",
       "  <thead>\n",
       "    <tr style=\"text-align: right;\">\n",
       "      <th></th>\n",
       "      <th>CustomerID</th>\n",
       "      <th>Count</th>\n",
       "      <th>Country</th>\n",
       "      <th>State</th>\n",
       "      <th>City</th>\n",
       "      <th>Zip Code</th>\n",
       "      <th>Lat Long</th>\n",
       "      <th>Latitude</th>\n",
       "      <th>Longitude</th>\n",
       "      <th>Gender</th>\n",
       "      <th>...</th>\n",
       "      <th>Contract</th>\n",
       "      <th>Paperless Billing</th>\n",
       "      <th>Payment Method</th>\n",
       "      <th>Monthly Charges</th>\n",
       "      <th>Total Charges</th>\n",
       "      <th>Churn Label</th>\n",
       "      <th>Churn Value</th>\n",
       "      <th>Churn Score</th>\n",
       "      <th>CLTV</th>\n",
       "      <th>Churn Reason</th>\n",
       "    </tr>\n",
       "  </thead>\n",
       "  <tbody>\n",
       "    <tr>\n",
       "      <th>0</th>\n",
       "      <td>3668-QPYBK</td>\n",
       "      <td>1</td>\n",
       "      <td>United States</td>\n",
       "      <td>California</td>\n",
       "      <td>Los Angeles</td>\n",
       "      <td>90003</td>\n",
       "      <td>33.964131, -118.272783</td>\n",
       "      <td>33.964131</td>\n",
       "      <td>-118.272783</td>\n",
       "      <td>Male</td>\n",
       "      <td>...</td>\n",
       "      <td>Month-to-month</td>\n",
       "      <td>Yes</td>\n",
       "      <td>Mailed check</td>\n",
       "      <td>53.85</td>\n",
       "      <td>108.15</td>\n",
       "      <td>Yes</td>\n",
       "      <td>1</td>\n",
       "      <td>86</td>\n",
       "      <td>3239</td>\n",
       "      <td>Competitor made better offer</td>\n",
       "    </tr>\n",
       "    <tr>\n",
       "      <th>1</th>\n",
       "      <td>9237-HQITU</td>\n",
       "      <td>1</td>\n",
       "      <td>United States</td>\n",
       "      <td>California</td>\n",
       "      <td>Los Angeles</td>\n",
       "      <td>90005</td>\n",
       "      <td>34.059281, -118.30742</td>\n",
       "      <td>34.059281</td>\n",
       "      <td>-118.307420</td>\n",
       "      <td>Female</td>\n",
       "      <td>...</td>\n",
       "      <td>Month-to-month</td>\n",
       "      <td>Yes</td>\n",
       "      <td>Electronic check</td>\n",
       "      <td>70.70</td>\n",
       "      <td>151.65</td>\n",
       "      <td>Yes</td>\n",
       "      <td>1</td>\n",
       "      <td>67</td>\n",
       "      <td>2701</td>\n",
       "      <td>Moved</td>\n",
       "    </tr>\n",
       "    <tr>\n",
       "      <th>2</th>\n",
       "      <td>9305-CDSKC</td>\n",
       "      <td>1</td>\n",
       "      <td>United States</td>\n",
       "      <td>California</td>\n",
       "      <td>Los Angeles</td>\n",
       "      <td>90006</td>\n",
       "      <td>34.048013, -118.293953</td>\n",
       "      <td>34.048013</td>\n",
       "      <td>-118.293953</td>\n",
       "      <td>Female</td>\n",
       "      <td>...</td>\n",
       "      <td>Month-to-month</td>\n",
       "      <td>Yes</td>\n",
       "      <td>Electronic check</td>\n",
       "      <td>99.65</td>\n",
       "      <td>820.5</td>\n",
       "      <td>Yes</td>\n",
       "      <td>1</td>\n",
       "      <td>86</td>\n",
       "      <td>5372</td>\n",
       "      <td>Moved</td>\n",
       "    </tr>\n",
       "    <tr>\n",
       "      <th>3</th>\n",
       "      <td>7892-POOKP</td>\n",
       "      <td>1</td>\n",
       "      <td>United States</td>\n",
       "      <td>California</td>\n",
       "      <td>Los Angeles</td>\n",
       "      <td>90010</td>\n",
       "      <td>34.062125, -118.315709</td>\n",
       "      <td>34.062125</td>\n",
       "      <td>-118.315709</td>\n",
       "      <td>Female</td>\n",
       "      <td>...</td>\n",
       "      <td>Month-to-month</td>\n",
       "      <td>Yes</td>\n",
       "      <td>Electronic check</td>\n",
       "      <td>104.80</td>\n",
       "      <td>3046.05</td>\n",
       "      <td>Yes</td>\n",
       "      <td>1</td>\n",
       "      <td>84</td>\n",
       "      <td>5003</td>\n",
       "      <td>Moved</td>\n",
       "    </tr>\n",
       "    <tr>\n",
       "      <th>4</th>\n",
       "      <td>0280-XJGEX</td>\n",
       "      <td>1</td>\n",
       "      <td>United States</td>\n",
       "      <td>California</td>\n",
       "      <td>Los Angeles</td>\n",
       "      <td>90015</td>\n",
       "      <td>34.039224, -118.266293</td>\n",
       "      <td>34.039224</td>\n",
       "      <td>-118.266293</td>\n",
       "      <td>Male</td>\n",
       "      <td>...</td>\n",
       "      <td>Month-to-month</td>\n",
       "      <td>Yes</td>\n",
       "      <td>Bank transfer (automatic)</td>\n",
       "      <td>103.70</td>\n",
       "      <td>5036.3</td>\n",
       "      <td>Yes</td>\n",
       "      <td>1</td>\n",
       "      <td>89</td>\n",
       "      <td>5340</td>\n",
       "      <td>Competitor had better devices</td>\n",
       "    </tr>\n",
       "  </tbody>\n",
       "</table>\n",
       "<p>5 rows × 33 columns</p>\n",
       "</div>"
      ],
      "text/plain": [
       "   CustomerID  Count        Country       State         City  Zip Code  \\\n",
       "0  3668-QPYBK      1  United States  California  Los Angeles     90003   \n",
       "1  9237-HQITU      1  United States  California  Los Angeles     90005   \n",
       "2  9305-CDSKC      1  United States  California  Los Angeles     90006   \n",
       "3  7892-POOKP      1  United States  California  Los Angeles     90010   \n",
       "4  0280-XJGEX      1  United States  California  Los Angeles     90015   \n",
       "\n",
       "                 Lat Long   Latitude   Longitude  Gender  ...        Contract  \\\n",
       "0  33.964131, -118.272783  33.964131 -118.272783    Male  ...  Month-to-month   \n",
       "1   34.059281, -118.30742  34.059281 -118.307420  Female  ...  Month-to-month   \n",
       "2  34.048013, -118.293953  34.048013 -118.293953  Female  ...  Month-to-month   \n",
       "3  34.062125, -118.315709  34.062125 -118.315709  Female  ...  Month-to-month   \n",
       "4  34.039224, -118.266293  34.039224 -118.266293    Male  ...  Month-to-month   \n",
       "\n",
       "  Paperless Billing             Payment Method  Monthly Charges Total Charges  \\\n",
       "0               Yes               Mailed check            53.85        108.15   \n",
       "1               Yes           Electronic check            70.70        151.65   \n",
       "2               Yes           Electronic check            99.65         820.5   \n",
       "3               Yes           Electronic check           104.80       3046.05   \n",
       "4               Yes  Bank transfer (automatic)           103.70        5036.3   \n",
       "\n",
       "  Churn Label Churn Value Churn Score  CLTV                   Churn Reason  \n",
       "0         Yes           1          86  3239   Competitor made better offer  \n",
       "1         Yes           1          67  2701                          Moved  \n",
       "2         Yes           1          86  5372                          Moved  \n",
       "3         Yes           1          84  5003                          Moved  \n",
       "4         Yes           1          89  5340  Competitor had better devices  \n",
       "\n",
       "[5 rows x 33 columns]"
      ]
     },
     "execution_count": 10,
     "metadata": {},
     "output_type": "execute_result"
    }
   ],
   "source": [
    "df.head()"
   ]
  },
  {
   "cell_type": "code",
   "execution_count": 11,
   "id": "563c1040-5239-4e29-b134-d4d8007149ef",
   "metadata": {},
   "outputs": [
    {
     "name": "stdout",
     "output_type": "stream",
     "text": [
      "<class 'pandas.core.frame.DataFrame'>\n",
      "RangeIndex: 7043 entries, 0 to 7042\n",
      "Data columns (total 33 columns):\n",
      " #   Column             Non-Null Count  Dtype  \n",
      "---  ------             --------------  -----  \n",
      " 0   CustomerID         7043 non-null   object \n",
      " 1   Count              7043 non-null   int64  \n",
      " 2   Country            7043 non-null   object \n",
      " 3   State              7043 non-null   object \n",
      " 4   City               7043 non-null   object \n",
      " 5   Zip Code           7043 non-null   int64  \n",
      " 6   Lat Long           7043 non-null   object \n",
      " 7   Latitude           7043 non-null   float64\n",
      " 8   Longitude          7043 non-null   float64\n",
      " 9   Gender             7043 non-null   object \n",
      " 10  Senior Citizen     7043 non-null   object \n",
      " 11  Partner            7043 non-null   object \n",
      " 12  Dependents         7043 non-null   object \n",
      " 13  Tenure Months      7043 non-null   int64  \n",
      " 14  Phone Service      7043 non-null   object \n",
      " 15  Multiple Lines     7043 non-null   object \n",
      " 16  Internet Service   7043 non-null   object \n",
      " 17  Online Security    7043 non-null   object \n",
      " 18  Online Backup      7043 non-null   object \n",
      " 19  Device Protection  7043 non-null   object \n",
      " 20  Tech Support       7043 non-null   object \n",
      " 21  Streaming TV       7043 non-null   object \n",
      " 22  Streaming Movies   7043 non-null   object \n",
      " 23  Contract           7043 non-null   object \n",
      " 24  Paperless Billing  7043 non-null   object \n",
      " 25  Payment Method     7043 non-null   object \n",
      " 26  Monthly Charges    7043 non-null   float64\n",
      " 27  Total Charges      7043 non-null   object \n",
      " 28  Churn Label        7043 non-null   object \n",
      " 29  Churn Value        7043 non-null   int64  \n",
      " 30  Churn Score        7043 non-null   int64  \n",
      " 31  CLTV               7043 non-null   int64  \n",
      " 32  Churn Reason       1869 non-null   object \n",
      "dtypes: float64(3), int64(6), object(24)\n",
      "memory usage: 1.8+ MB\n"
     ]
    }
   ],
   "source": [
    "df.info()"
   ]
  },
  {
   "cell_type": "code",
   "execution_count": 12,
   "id": "8dca9975-f7b3-4eee-8299-6475689f005a",
   "metadata": {},
   "outputs": [
    {
     "data": {
      "text/html": [
       "<div>\n",
       "<style scoped>\n",
       "    .dataframe tbody tr th:only-of-type {\n",
       "        vertical-align: middle;\n",
       "    }\n",
       "\n",
       "    .dataframe tbody tr th {\n",
       "        vertical-align: top;\n",
       "    }\n",
       "\n",
       "    .dataframe thead th {\n",
       "        text-align: right;\n",
       "    }\n",
       "</style>\n",
       "<table border=\"1\" class=\"dataframe\">\n",
       "  <thead>\n",
       "    <tr style=\"text-align: right;\">\n",
       "      <th></th>\n",
       "      <th>CustomerID</th>\n",
       "      <th>Count</th>\n",
       "      <th>Country</th>\n",
       "      <th>State</th>\n",
       "      <th>City</th>\n",
       "      <th>Zip Code</th>\n",
       "      <th>Lat Long</th>\n",
       "      <th>Latitude</th>\n",
       "      <th>Longitude</th>\n",
       "      <th>Gender</th>\n",
       "      <th>...</th>\n",
       "      <th>Contract</th>\n",
       "      <th>Paperless Billing</th>\n",
       "      <th>Payment Method</th>\n",
       "      <th>Monthly Charges</th>\n",
       "      <th>Total Charges</th>\n",
       "      <th>Churn Label</th>\n",
       "      <th>Churn Value</th>\n",
       "      <th>Churn Score</th>\n",
       "      <th>CLTV</th>\n",
       "      <th>Churn Reason</th>\n",
       "    </tr>\n",
       "  </thead>\n",
       "  <tbody>\n",
       "    <tr>\n",
       "      <th>1869</th>\n",
       "      <td>7590-VHVEG</td>\n",
       "      <td>1</td>\n",
       "      <td>United States</td>\n",
       "      <td>California</td>\n",
       "      <td>Los Angeles</td>\n",
       "      <td>90001</td>\n",
       "      <td>33.973616, -118.24902</td>\n",
       "      <td>33.973616</td>\n",
       "      <td>-118.249020</td>\n",
       "      <td>Female</td>\n",
       "      <td>...</td>\n",
       "      <td>Month-to-month</td>\n",
       "      <td>Yes</td>\n",
       "      <td>Electronic check</td>\n",
       "      <td>29.85</td>\n",
       "      <td>29.85</td>\n",
       "      <td>No</td>\n",
       "      <td>0</td>\n",
       "      <td>27</td>\n",
       "      <td>3964</td>\n",
       "      <td>NaN</td>\n",
       "    </tr>\n",
       "    <tr>\n",
       "      <th>1870</th>\n",
       "      <td>5575-GNVDE</td>\n",
       "      <td>1</td>\n",
       "      <td>United States</td>\n",
       "      <td>California</td>\n",
       "      <td>Los Angeles</td>\n",
       "      <td>90002</td>\n",
       "      <td>33.949255, -118.246978</td>\n",
       "      <td>33.949255</td>\n",
       "      <td>-118.246978</td>\n",
       "      <td>Male</td>\n",
       "      <td>...</td>\n",
       "      <td>One year</td>\n",
       "      <td>No</td>\n",
       "      <td>Mailed check</td>\n",
       "      <td>56.95</td>\n",
       "      <td>1889.5</td>\n",
       "      <td>No</td>\n",
       "      <td>0</td>\n",
       "      <td>61</td>\n",
       "      <td>3441</td>\n",
       "      <td>NaN</td>\n",
       "    </tr>\n",
       "    <tr>\n",
       "      <th>1871</th>\n",
       "      <td>7795-CFOCW</td>\n",
       "      <td>1</td>\n",
       "      <td>United States</td>\n",
       "      <td>California</td>\n",
       "      <td>Los Angeles</td>\n",
       "      <td>90004</td>\n",
       "      <td>34.076259, -118.310715</td>\n",
       "      <td>34.076259</td>\n",
       "      <td>-118.310715</td>\n",
       "      <td>Male</td>\n",
       "      <td>...</td>\n",
       "      <td>One year</td>\n",
       "      <td>No</td>\n",
       "      <td>Bank transfer (automatic)</td>\n",
       "      <td>42.30</td>\n",
       "      <td>1840.75</td>\n",
       "      <td>No</td>\n",
       "      <td>0</td>\n",
       "      <td>66</td>\n",
       "      <td>4307</td>\n",
       "      <td>NaN</td>\n",
       "    </tr>\n",
       "    <tr>\n",
       "      <th>1872</th>\n",
       "      <td>1452-KIOVK</td>\n",
       "      <td>1</td>\n",
       "      <td>United States</td>\n",
       "      <td>California</td>\n",
       "      <td>Los Angeles</td>\n",
       "      <td>90007</td>\n",
       "      <td>34.027337, -118.28515</td>\n",
       "      <td>34.027337</td>\n",
       "      <td>-118.285150</td>\n",
       "      <td>Male</td>\n",
       "      <td>...</td>\n",
       "      <td>Month-to-month</td>\n",
       "      <td>Yes</td>\n",
       "      <td>Credit card (automatic)</td>\n",
       "      <td>89.10</td>\n",
       "      <td>1949.4</td>\n",
       "      <td>No</td>\n",
       "      <td>0</td>\n",
       "      <td>43</td>\n",
       "      <td>4459</td>\n",
       "      <td>NaN</td>\n",
       "    </tr>\n",
       "    <tr>\n",
       "      <th>1873</th>\n",
       "      <td>6713-OKOMC</td>\n",
       "      <td>1</td>\n",
       "      <td>United States</td>\n",
       "      <td>California</td>\n",
       "      <td>Los Angeles</td>\n",
       "      <td>90008</td>\n",
       "      <td>34.008293, -118.346766</td>\n",
       "      <td>34.008293</td>\n",
       "      <td>-118.346766</td>\n",
       "      <td>Female</td>\n",
       "      <td>...</td>\n",
       "      <td>Month-to-month</td>\n",
       "      <td>No</td>\n",
       "      <td>Mailed check</td>\n",
       "      <td>29.75</td>\n",
       "      <td>301.9</td>\n",
       "      <td>No</td>\n",
       "      <td>0</td>\n",
       "      <td>51</td>\n",
       "      <td>2013</td>\n",
       "      <td>NaN</td>\n",
       "    </tr>\n",
       "    <tr>\n",
       "      <th>...</th>\n",
       "      <td>...</td>\n",
       "      <td>...</td>\n",
       "      <td>...</td>\n",
       "      <td>...</td>\n",
       "      <td>...</td>\n",
       "      <td>...</td>\n",
       "      <td>...</td>\n",
       "      <td>...</td>\n",
       "      <td>...</td>\n",
       "      <td>...</td>\n",
       "      <td>...</td>\n",
       "      <td>...</td>\n",
       "      <td>...</td>\n",
       "      <td>...</td>\n",
       "      <td>...</td>\n",
       "      <td>...</td>\n",
       "      <td>...</td>\n",
       "      <td>...</td>\n",
       "      <td>...</td>\n",
       "      <td>...</td>\n",
       "      <td>...</td>\n",
       "    </tr>\n",
       "    <tr>\n",
       "      <th>7038</th>\n",
       "      <td>2569-WGERO</td>\n",
       "      <td>1</td>\n",
       "      <td>United States</td>\n",
       "      <td>California</td>\n",
       "      <td>Landers</td>\n",
       "      <td>92285</td>\n",
       "      <td>34.341737, -116.539416</td>\n",
       "      <td>34.341737</td>\n",
       "      <td>-116.539416</td>\n",
       "      <td>Female</td>\n",
       "      <td>...</td>\n",
       "      <td>Two year</td>\n",
       "      <td>Yes</td>\n",
       "      <td>Bank transfer (automatic)</td>\n",
       "      <td>21.15</td>\n",
       "      <td>1419.4</td>\n",
       "      <td>No</td>\n",
       "      <td>0</td>\n",
       "      <td>45</td>\n",
       "      <td>5306</td>\n",
       "      <td>NaN</td>\n",
       "    </tr>\n",
       "    <tr>\n",
       "      <th>7039</th>\n",
       "      <td>6840-RESVB</td>\n",
       "      <td>1</td>\n",
       "      <td>United States</td>\n",
       "      <td>California</td>\n",
       "      <td>Adelanto</td>\n",
       "      <td>92301</td>\n",
       "      <td>34.667815, -117.536183</td>\n",
       "      <td>34.667815</td>\n",
       "      <td>-117.536183</td>\n",
       "      <td>Male</td>\n",
       "      <td>...</td>\n",
       "      <td>One year</td>\n",
       "      <td>Yes</td>\n",
       "      <td>Mailed check</td>\n",
       "      <td>84.80</td>\n",
       "      <td>1990.5</td>\n",
       "      <td>No</td>\n",
       "      <td>0</td>\n",
       "      <td>59</td>\n",
       "      <td>2140</td>\n",
       "      <td>NaN</td>\n",
       "    </tr>\n",
       "    <tr>\n",
       "      <th>7040</th>\n",
       "      <td>2234-XADUH</td>\n",
       "      <td>1</td>\n",
       "      <td>United States</td>\n",
       "      <td>California</td>\n",
       "      <td>Amboy</td>\n",
       "      <td>92304</td>\n",
       "      <td>34.559882, -115.637164</td>\n",
       "      <td>34.559882</td>\n",
       "      <td>-115.637164</td>\n",
       "      <td>Female</td>\n",
       "      <td>...</td>\n",
       "      <td>One year</td>\n",
       "      <td>Yes</td>\n",
       "      <td>Credit card (automatic)</td>\n",
       "      <td>103.20</td>\n",
       "      <td>7362.9</td>\n",
       "      <td>No</td>\n",
       "      <td>0</td>\n",
       "      <td>71</td>\n",
       "      <td>5560</td>\n",
       "      <td>NaN</td>\n",
       "    </tr>\n",
       "    <tr>\n",
       "      <th>7041</th>\n",
       "      <td>4801-JZAZL</td>\n",
       "      <td>1</td>\n",
       "      <td>United States</td>\n",
       "      <td>California</td>\n",
       "      <td>Angelus Oaks</td>\n",
       "      <td>92305</td>\n",
       "      <td>34.1678, -116.86433</td>\n",
       "      <td>34.167800</td>\n",
       "      <td>-116.864330</td>\n",
       "      <td>Female</td>\n",
       "      <td>...</td>\n",
       "      <td>Month-to-month</td>\n",
       "      <td>Yes</td>\n",
       "      <td>Electronic check</td>\n",
       "      <td>29.60</td>\n",
       "      <td>346.45</td>\n",
       "      <td>No</td>\n",
       "      <td>0</td>\n",
       "      <td>59</td>\n",
       "      <td>2793</td>\n",
       "      <td>NaN</td>\n",
       "    </tr>\n",
       "    <tr>\n",
       "      <th>7042</th>\n",
       "      <td>3186-AJIEK</td>\n",
       "      <td>1</td>\n",
       "      <td>United States</td>\n",
       "      <td>California</td>\n",
       "      <td>Apple Valley</td>\n",
       "      <td>92308</td>\n",
       "      <td>34.424926, -117.184503</td>\n",
       "      <td>34.424926</td>\n",
       "      <td>-117.184503</td>\n",
       "      <td>Male</td>\n",
       "      <td>...</td>\n",
       "      <td>Two year</td>\n",
       "      <td>Yes</td>\n",
       "      <td>Bank transfer (automatic)</td>\n",
       "      <td>105.65</td>\n",
       "      <td>6844.5</td>\n",
       "      <td>No</td>\n",
       "      <td>0</td>\n",
       "      <td>38</td>\n",
       "      <td>5097</td>\n",
       "      <td>NaN</td>\n",
       "    </tr>\n",
       "  </tbody>\n",
       "</table>\n",
       "<p>5174 rows × 33 columns</p>\n",
       "</div>"
      ],
      "text/plain": [
       "      CustomerID  Count        Country       State          City  Zip Code  \\\n",
       "1869  7590-VHVEG      1  United States  California   Los Angeles     90001   \n",
       "1870  5575-GNVDE      1  United States  California   Los Angeles     90002   \n",
       "1871  7795-CFOCW      1  United States  California   Los Angeles     90004   \n",
       "1872  1452-KIOVK      1  United States  California   Los Angeles     90007   \n",
       "1873  6713-OKOMC      1  United States  California   Los Angeles     90008   \n",
       "...          ...    ...            ...         ...           ...       ...   \n",
       "7038  2569-WGERO      1  United States  California       Landers     92285   \n",
       "7039  6840-RESVB      1  United States  California      Adelanto     92301   \n",
       "7040  2234-XADUH      1  United States  California         Amboy     92304   \n",
       "7041  4801-JZAZL      1  United States  California  Angelus Oaks     92305   \n",
       "7042  3186-AJIEK      1  United States  California  Apple Valley     92308   \n",
       "\n",
       "                    Lat Long   Latitude   Longitude  Gender  ...  \\\n",
       "1869   33.973616, -118.24902  33.973616 -118.249020  Female  ...   \n",
       "1870  33.949255, -118.246978  33.949255 -118.246978    Male  ...   \n",
       "1871  34.076259, -118.310715  34.076259 -118.310715    Male  ...   \n",
       "1872   34.027337, -118.28515  34.027337 -118.285150    Male  ...   \n",
       "1873  34.008293, -118.346766  34.008293 -118.346766  Female  ...   \n",
       "...                      ...        ...         ...     ...  ...   \n",
       "7038  34.341737, -116.539416  34.341737 -116.539416  Female  ...   \n",
       "7039  34.667815, -117.536183  34.667815 -117.536183    Male  ...   \n",
       "7040  34.559882, -115.637164  34.559882 -115.637164  Female  ...   \n",
       "7041     34.1678, -116.86433  34.167800 -116.864330  Female  ...   \n",
       "7042  34.424926, -117.184503  34.424926 -117.184503    Male  ...   \n",
       "\n",
       "            Contract Paperless Billing             Payment Method  \\\n",
       "1869  Month-to-month               Yes           Electronic check   \n",
       "1870        One year                No               Mailed check   \n",
       "1871        One year                No  Bank transfer (automatic)   \n",
       "1872  Month-to-month               Yes    Credit card (automatic)   \n",
       "1873  Month-to-month                No               Mailed check   \n",
       "...              ...               ...                        ...   \n",
       "7038        Two year               Yes  Bank transfer (automatic)   \n",
       "7039        One year               Yes               Mailed check   \n",
       "7040        One year               Yes    Credit card (automatic)   \n",
       "7041  Month-to-month               Yes           Electronic check   \n",
       "7042        Two year               Yes  Bank transfer (automatic)   \n",
       "\n",
       "      Monthly Charges Total Charges Churn Label Churn Value Churn Score  CLTV  \\\n",
       "1869            29.85         29.85          No           0          27  3964   \n",
       "1870            56.95        1889.5          No           0          61  3441   \n",
       "1871            42.30       1840.75          No           0          66  4307   \n",
       "1872            89.10        1949.4          No           0          43  4459   \n",
       "1873            29.75         301.9          No           0          51  2013   \n",
       "...               ...           ...         ...         ...         ...   ...   \n",
       "7038            21.15        1419.4          No           0          45  5306   \n",
       "7039            84.80        1990.5          No           0          59  2140   \n",
       "7040           103.20        7362.9          No           0          71  5560   \n",
       "7041            29.60        346.45          No           0          59  2793   \n",
       "7042           105.65        6844.5          No           0          38  5097   \n",
       "\n",
       "     Churn Reason  \n",
       "1869          NaN  \n",
       "1870          NaN  \n",
       "1871          NaN  \n",
       "1872          NaN  \n",
       "1873          NaN  \n",
       "...           ...  \n",
       "7038          NaN  \n",
       "7039          NaN  \n",
       "7040          NaN  \n",
       "7041          NaN  \n",
       "7042          NaN  \n",
       "\n",
       "[5174 rows x 33 columns]"
      ]
     },
     "execution_count": 12,
     "metadata": {},
     "output_type": "execute_result"
    }
   ],
   "source": [
    "# Print rows with null values\n",
    "df[df.isna().any(axis=1)]"
   ]
  },
  {
   "cell_type": "code",
   "execution_count": 13,
   "id": "2f54c73c-91b6-474e-9119-53480c384937",
   "metadata": {},
   "outputs": [
    {
     "data": {
      "text/plain": [
       "array(['Competitor made better offer', 'Moved',\n",
       "       'Competitor had better devices',\n",
       "       'Competitor offered higher download speeds',\n",
       "       'Competitor offered more data', 'Price too high',\n",
       "       'Product dissatisfaction', 'Service dissatisfaction',\n",
       "       'Lack of self-service on Website', 'Network reliability',\n",
       "       'Limited range of services',\n",
       "       'Lack of affordable download/upload speed',\n",
       "       'Long distance charges', 'Extra data charges', \"Don't know\",\n",
       "       'Poor expertise of online support',\n",
       "       'Poor expertise of phone support', 'Attitude of service provider',\n",
       "       'Attitude of support person', 'Deceased', nan], dtype=object)"
      ]
     },
     "execution_count": 13,
     "metadata": {},
     "output_type": "execute_result"
    }
   ],
   "source": [
    "# Show different churn reasons\n",
    "df['Churn Reason'].unique()"
   ]
  },
  {
   "cell_type": "code",
   "execution_count": 14,
   "id": "cb004559-2881-4fc3-9c98-3fc6d20085ea",
   "metadata": {},
   "outputs": [
    {
     "name": "stdout",
     "output_type": "stream",
     "text": [
      "73.46%\n"
     ]
    }
   ],
   "source": [
    "# Get proportion of rows with no Churn Reason\n",
    "null_rows = df[df['Churn Reason'].isna()]\n",
    "ratio = len(null_rows) / len(df)\n",
    "print(format(ratio, '.2%'))"
   ]
  },
  {
   "cell_type": "code",
   "execution_count": 15,
   "id": "2a8be4fe-2a52-46b9-9e5c-5475d6a6e66c",
   "metadata": {},
   "outputs": [
    {
     "data": {
      "text/plain": [
       "array(['United States'], dtype=object)"
      ]
     },
     "execution_count": 15,
     "metadata": {},
     "output_type": "execute_result"
    }
   ],
   "source": [
    "df['Country'].unique()"
   ]
  },
  {
   "cell_type": "code",
   "execution_count": 16,
   "id": "574101b8-f8f2-41c3-93a4-2240e9592922",
   "metadata": {},
   "outputs": [
    {
     "data": {
      "text/plain": [
       "array(['California'], dtype=object)"
      ]
     },
     "execution_count": 16,
     "metadata": {},
     "output_type": "execute_result"
    }
   ],
   "source": [
    "df['State'].unique()"
   ]
  },
  {
   "cell_type": "code",
   "execution_count": 17,
   "id": "8c76ea0b-a08a-4b93-8413-4b2574210b5d",
   "metadata": {},
   "outputs": [
    {
     "data": {
      "text/plain": [
       "Zip Code\n",
       "90022    5\n",
       "90024    5\n",
       "90028    5\n",
       "90029    5\n",
       "90032    5\n",
       "        ..\n",
       "95991    4\n",
       "96003    4\n",
       "96010    4\n",
       "96020    4\n",
       "92620    4\n",
       "Name: count, Length: 1652, dtype: int64"
      ]
     },
     "execution_count": 17,
     "metadata": {},
     "output_type": "execute_result"
    }
   ],
   "source": [
    "df['Zip Code'].value_counts()"
   ]
  },
  {
   "cell_type": "code",
   "execution_count": 18,
   "id": "626def8a-fe6e-479a-8927-c26574716a17",
   "metadata": {},
   "outputs": [
    {
     "data": {
      "text/plain": [
       "City\n",
       "Los Angeles      305\n",
       "San Diego        150\n",
       "San Jose         112\n",
       "Sacramento       108\n",
       "San Francisco    104\n",
       "                ... \n",
       "Stonyford          4\n",
       "Washington         4\n",
       "Big Bar            4\n",
       "Chester            4\n",
       "Alta               4\n",
       "Name: count, Length: 1129, dtype: int64"
      ]
     },
     "execution_count": 18,
     "metadata": {},
     "output_type": "execute_result"
    }
   ],
   "source": [
    "df['City'].value_counts()"
   ]
  },
  {
   "cell_type": "markdown",
   "id": "7a9b3907-203d-462b-927b-b473f2bd834e",
   "metadata": {},
   "source": [
    "## Data Cleaning"
   ]
  },
  {
   "cell_type": "code",
   "execution_count": 22,
   "id": "b555940b-8842-4d6c-bc63-b72c4c28a9c9",
   "metadata": {},
   "outputs": [
    {
     "data": {
      "text/plain": [
       "Total Charges\n",
       "          11\n",
       "20.2      11\n",
       "19.75      9\n",
       "19.65      8\n",
       "19.9       8\n",
       "          ..\n",
       "1419.4     1\n",
       "1990.5     1\n",
       "7362.9     1\n",
       "346.45     1\n",
       "820.5      1\n",
       "Name: count, Length: 6531, dtype: int64"
      ]
     },
     "execution_count": 22,
     "metadata": {},
     "output_type": "execute_result"
    }
   ],
   "source": [
    "# Some total charges are not numbers\n",
    "df['Total Charges'].value_counts()"
   ]
  },
  {
   "cell_type": "code",
   "execution_count": 23,
   "id": "dca0d3ec-be77-4c5d-88d8-7aeaa148e533",
   "metadata": {},
   "outputs": [
    {
     "name": "stderr",
     "output_type": "stream",
     "text": [
      "/var/folders/_f/65hyqq653ws_7lpphp7nvxd80000gn/T/ipykernel_14121/1501556972.py:2: UserWarning: This pattern is interpreted as a regular expression, and has match groups. To actually get the groups, use str.extract.\n",
      "  not_numbers_mask = df['Total Charges'].str.contains(r'(\\d+(?:\\.\\d+)?)', regex=True) == False\n"
     ]
    },
    {
     "data": {
      "text/html": [
       "<div>\n",
       "<style scoped>\n",
       "    .dataframe tbody tr th:only-of-type {\n",
       "        vertical-align: middle;\n",
       "    }\n",
       "\n",
       "    .dataframe tbody tr th {\n",
       "        vertical-align: top;\n",
       "    }\n",
       "\n",
       "    .dataframe thead th {\n",
       "        text-align: right;\n",
       "    }\n",
       "</style>\n",
       "<table border=\"1\" class=\"dataframe\">\n",
       "  <thead>\n",
       "    <tr style=\"text-align: right;\">\n",
       "      <th></th>\n",
       "      <th>CustomerID</th>\n",
       "      <th>City</th>\n",
       "      <th>Gender</th>\n",
       "      <th>Senior Citizen</th>\n",
       "      <th>Partner</th>\n",
       "      <th>Dependents</th>\n",
       "      <th>Tenure Months</th>\n",
       "      <th>Phone Service</th>\n",
       "      <th>Multiple Lines</th>\n",
       "      <th>Internet Service</th>\n",
       "      <th>...</th>\n",
       "      <th>Streaming Movies</th>\n",
       "      <th>Contract</th>\n",
       "      <th>Paperless Billing</th>\n",
       "      <th>Payment Method</th>\n",
       "      <th>Monthly Charges</th>\n",
       "      <th>Total Charges</th>\n",
       "      <th>Churn Value</th>\n",
       "      <th>Churn Score</th>\n",
       "      <th>CLTV</th>\n",
       "      <th>Churn Reason</th>\n",
       "    </tr>\n",
       "  </thead>\n",
       "  <tbody>\n",
       "    <tr>\n",
       "      <th>2234</th>\n",
       "      <td>4472-LVYGI</td>\n",
       "      <td>San Bernardino</td>\n",
       "      <td>Female</td>\n",
       "      <td>No</td>\n",
       "      <td>Yes</td>\n",
       "      <td>No</td>\n",
       "      <td>0</td>\n",
       "      <td>No</td>\n",
       "      <td>No phone service</td>\n",
       "      <td>DSL</td>\n",
       "      <td>...</td>\n",
       "      <td>No</td>\n",
       "      <td>Two year</td>\n",
       "      <td>Yes</td>\n",
       "      <td>Bank transfer (automatic)</td>\n",
       "      <td>52.55</td>\n",
       "      <td></td>\n",
       "      <td>0</td>\n",
       "      <td>36</td>\n",
       "      <td>2578</td>\n",
       "      <td>NaN</td>\n",
       "    </tr>\n",
       "    <tr>\n",
       "      <th>2438</th>\n",
       "      <td>3115-CZMZD</td>\n",
       "      <td>Independence</td>\n",
       "      <td>Male</td>\n",
       "      <td>No</td>\n",
       "      <td>No</td>\n",
       "      <td>No</td>\n",
       "      <td>0</td>\n",
       "      <td>Yes</td>\n",
       "      <td>No</td>\n",
       "      <td>No</td>\n",
       "      <td>...</td>\n",
       "      <td>No internet service</td>\n",
       "      <td>Two year</td>\n",
       "      <td>No</td>\n",
       "      <td>Mailed check</td>\n",
       "      <td>20.25</td>\n",
       "      <td></td>\n",
       "      <td>0</td>\n",
       "      <td>68</td>\n",
       "      <td>5504</td>\n",
       "      <td>NaN</td>\n",
       "    </tr>\n",
       "    <tr>\n",
       "      <th>2568</th>\n",
       "      <td>5709-LVOEQ</td>\n",
       "      <td>San Mateo</td>\n",
       "      <td>Female</td>\n",
       "      <td>No</td>\n",
       "      <td>Yes</td>\n",
       "      <td>No</td>\n",
       "      <td>0</td>\n",
       "      <td>Yes</td>\n",
       "      <td>No</td>\n",
       "      <td>DSL</td>\n",
       "      <td>...</td>\n",
       "      <td>Yes</td>\n",
       "      <td>Two year</td>\n",
       "      <td>No</td>\n",
       "      <td>Mailed check</td>\n",
       "      <td>80.85</td>\n",
       "      <td></td>\n",
       "      <td>0</td>\n",
       "      <td>45</td>\n",
       "      <td>2048</td>\n",
       "      <td>NaN</td>\n",
       "    </tr>\n",
       "    <tr>\n",
       "      <th>2667</th>\n",
       "      <td>4367-NUYAO</td>\n",
       "      <td>Cupertino</td>\n",
       "      <td>Male</td>\n",
       "      <td>No</td>\n",
       "      <td>Yes</td>\n",
       "      <td>Yes</td>\n",
       "      <td>0</td>\n",
       "      <td>Yes</td>\n",
       "      <td>Yes</td>\n",
       "      <td>No</td>\n",
       "      <td>...</td>\n",
       "      <td>No internet service</td>\n",
       "      <td>Two year</td>\n",
       "      <td>No</td>\n",
       "      <td>Mailed check</td>\n",
       "      <td>25.75</td>\n",
       "      <td></td>\n",
       "      <td>0</td>\n",
       "      <td>48</td>\n",
       "      <td>4950</td>\n",
       "      <td>NaN</td>\n",
       "    </tr>\n",
       "    <tr>\n",
       "      <th>2856</th>\n",
       "      <td>1371-DWPAZ</td>\n",
       "      <td>Redcrest</td>\n",
       "      <td>Female</td>\n",
       "      <td>No</td>\n",
       "      <td>Yes</td>\n",
       "      <td>No</td>\n",
       "      <td>0</td>\n",
       "      <td>No</td>\n",
       "      <td>No phone service</td>\n",
       "      <td>DSL</td>\n",
       "      <td>...</td>\n",
       "      <td>No</td>\n",
       "      <td>Two year</td>\n",
       "      <td>No</td>\n",
       "      <td>Credit card (automatic)</td>\n",
       "      <td>56.05</td>\n",
       "      <td></td>\n",
       "      <td>0</td>\n",
       "      <td>30</td>\n",
       "      <td>4740</td>\n",
       "      <td>NaN</td>\n",
       "    </tr>\n",
       "    <tr>\n",
       "      <th>4331</th>\n",
       "      <td>7644-OMVMY</td>\n",
       "      <td>Los Angeles</td>\n",
       "      <td>Male</td>\n",
       "      <td>No</td>\n",
       "      <td>Yes</td>\n",
       "      <td>Yes</td>\n",
       "      <td>0</td>\n",
       "      <td>Yes</td>\n",
       "      <td>No</td>\n",
       "      <td>No</td>\n",
       "      <td>...</td>\n",
       "      <td>No internet service</td>\n",
       "      <td>Two year</td>\n",
       "      <td>No</td>\n",
       "      <td>Mailed check</td>\n",
       "      <td>19.85</td>\n",
       "      <td></td>\n",
       "      <td>0</td>\n",
       "      <td>53</td>\n",
       "      <td>2019</td>\n",
       "      <td>NaN</td>\n",
       "    </tr>\n",
       "    <tr>\n",
       "      <th>4687</th>\n",
       "      <td>3213-VVOLG</td>\n",
       "      <td>Sun City</td>\n",
       "      <td>Male</td>\n",
       "      <td>No</td>\n",
       "      <td>Yes</td>\n",
       "      <td>Yes</td>\n",
       "      <td>0</td>\n",
       "      <td>Yes</td>\n",
       "      <td>Yes</td>\n",
       "      <td>No</td>\n",
       "      <td>...</td>\n",
       "      <td>No internet service</td>\n",
       "      <td>Two year</td>\n",
       "      <td>No</td>\n",
       "      <td>Mailed check</td>\n",
       "      <td>25.35</td>\n",
       "      <td></td>\n",
       "      <td>0</td>\n",
       "      <td>49</td>\n",
       "      <td>2299</td>\n",
       "      <td>NaN</td>\n",
       "    </tr>\n",
       "    <tr>\n",
       "      <th>5104</th>\n",
       "      <td>2520-SGTTA</td>\n",
       "      <td>Ben Lomond</td>\n",
       "      <td>Female</td>\n",
       "      <td>No</td>\n",
       "      <td>Yes</td>\n",
       "      <td>Yes</td>\n",
       "      <td>0</td>\n",
       "      <td>Yes</td>\n",
       "      <td>No</td>\n",
       "      <td>No</td>\n",
       "      <td>...</td>\n",
       "      <td>No internet service</td>\n",
       "      <td>Two year</td>\n",
       "      <td>No</td>\n",
       "      <td>Mailed check</td>\n",
       "      <td>20.00</td>\n",
       "      <td></td>\n",
       "      <td>0</td>\n",
       "      <td>27</td>\n",
       "      <td>3763</td>\n",
       "      <td>NaN</td>\n",
       "    </tr>\n",
       "    <tr>\n",
       "      <th>5719</th>\n",
       "      <td>2923-ARZLG</td>\n",
       "      <td>La Verne</td>\n",
       "      <td>Male</td>\n",
       "      <td>No</td>\n",
       "      <td>Yes</td>\n",
       "      <td>Yes</td>\n",
       "      <td>0</td>\n",
       "      <td>Yes</td>\n",
       "      <td>No</td>\n",
       "      <td>No</td>\n",
       "      <td>...</td>\n",
       "      <td>No internet service</td>\n",
       "      <td>One year</td>\n",
       "      <td>Yes</td>\n",
       "      <td>Mailed check</td>\n",
       "      <td>19.70</td>\n",
       "      <td></td>\n",
       "      <td>0</td>\n",
       "      <td>69</td>\n",
       "      <td>4890</td>\n",
       "      <td>NaN</td>\n",
       "    </tr>\n",
       "    <tr>\n",
       "      <th>6772</th>\n",
       "      <td>4075-WKNIU</td>\n",
       "      <td>Bell</td>\n",
       "      <td>Female</td>\n",
       "      <td>No</td>\n",
       "      <td>Yes</td>\n",
       "      <td>Yes</td>\n",
       "      <td>0</td>\n",
       "      <td>Yes</td>\n",
       "      <td>Yes</td>\n",
       "      <td>DSL</td>\n",
       "      <td>...</td>\n",
       "      <td>No</td>\n",
       "      <td>Two year</td>\n",
       "      <td>No</td>\n",
       "      <td>Mailed check</td>\n",
       "      <td>73.35</td>\n",
       "      <td></td>\n",
       "      <td>0</td>\n",
       "      <td>44</td>\n",
       "      <td>2342</td>\n",
       "      <td>NaN</td>\n",
       "    </tr>\n",
       "    <tr>\n",
       "      <th>6840</th>\n",
       "      <td>2775-SEFEE</td>\n",
       "      <td>Wilmington</td>\n",
       "      <td>Male</td>\n",
       "      <td>No</td>\n",
       "      <td>No</td>\n",
       "      <td>Yes</td>\n",
       "      <td>0</td>\n",
       "      <td>Yes</td>\n",
       "      <td>Yes</td>\n",
       "      <td>DSL</td>\n",
       "      <td>...</td>\n",
       "      <td>No</td>\n",
       "      <td>Two year</td>\n",
       "      <td>Yes</td>\n",
       "      <td>Bank transfer (automatic)</td>\n",
       "      <td>61.90</td>\n",
       "      <td></td>\n",
       "      <td>0</td>\n",
       "      <td>65</td>\n",
       "      <td>5188</td>\n",
       "      <td>NaN</td>\n",
       "    </tr>\n",
       "  </tbody>\n",
       "</table>\n",
       "<p>11 rows × 25 columns</p>\n",
       "</div>"
      ],
      "text/plain": [
       "      CustomerID            City  Gender Senior Citizen Partner Dependents  \\\n",
       "2234  4472-LVYGI  San Bernardino  Female             No     Yes         No   \n",
       "2438  3115-CZMZD    Independence    Male             No      No         No   \n",
       "2568  5709-LVOEQ       San Mateo  Female             No     Yes         No   \n",
       "2667  4367-NUYAO       Cupertino    Male             No     Yes        Yes   \n",
       "2856  1371-DWPAZ        Redcrest  Female             No     Yes         No   \n",
       "4331  7644-OMVMY     Los Angeles    Male             No     Yes        Yes   \n",
       "4687  3213-VVOLG        Sun City    Male             No     Yes        Yes   \n",
       "5104  2520-SGTTA      Ben Lomond  Female             No     Yes        Yes   \n",
       "5719  2923-ARZLG        La Verne    Male             No     Yes        Yes   \n",
       "6772  4075-WKNIU            Bell  Female             No     Yes        Yes   \n",
       "6840  2775-SEFEE      Wilmington    Male             No      No        Yes   \n",
       "\n",
       "      Tenure Months Phone Service    Multiple Lines Internet Service  ...  \\\n",
       "2234              0            No  No phone service              DSL  ...   \n",
       "2438              0           Yes                No               No  ...   \n",
       "2568              0           Yes                No              DSL  ...   \n",
       "2667              0           Yes               Yes               No  ...   \n",
       "2856              0            No  No phone service              DSL  ...   \n",
       "4331              0           Yes                No               No  ...   \n",
       "4687              0           Yes               Yes               No  ...   \n",
       "5104              0           Yes                No               No  ...   \n",
       "5719              0           Yes                No               No  ...   \n",
       "6772              0           Yes               Yes              DSL  ...   \n",
       "6840              0           Yes               Yes              DSL  ...   \n",
       "\n",
       "         Streaming Movies  Contract Paperless Billing  \\\n",
       "2234                   No  Two year               Yes   \n",
       "2438  No internet service  Two year                No   \n",
       "2568                  Yes  Two year                No   \n",
       "2667  No internet service  Two year                No   \n",
       "2856                   No  Two year                No   \n",
       "4331  No internet service  Two year                No   \n",
       "4687  No internet service  Two year                No   \n",
       "5104  No internet service  Two year                No   \n",
       "5719  No internet service  One year               Yes   \n",
       "6772                   No  Two year                No   \n",
       "6840                   No  Two year               Yes   \n",
       "\n",
       "                 Payment Method Monthly Charges Total Charges Churn Value  \\\n",
       "2234  Bank transfer (automatic)           52.55                         0   \n",
       "2438               Mailed check           20.25                         0   \n",
       "2568               Mailed check           80.85                         0   \n",
       "2667               Mailed check           25.75                         0   \n",
       "2856    Credit card (automatic)           56.05                         0   \n",
       "4331               Mailed check           19.85                         0   \n",
       "4687               Mailed check           25.35                         0   \n",
       "5104               Mailed check           20.00                         0   \n",
       "5719               Mailed check           19.70                         0   \n",
       "6772               Mailed check           73.35                         0   \n",
       "6840  Bank transfer (automatic)           61.90                         0   \n",
       "\n",
       "     Churn Score  CLTV  Churn Reason  \n",
       "2234          36  2578           NaN  \n",
       "2438          68  5504           NaN  \n",
       "2568          45  2048           NaN  \n",
       "2667          48  4950           NaN  \n",
       "2856          30  4740           NaN  \n",
       "4331          53  2019           NaN  \n",
       "4687          49  2299           NaN  \n",
       "5104          27  3763           NaN  \n",
       "5719          69  4890           NaN  \n",
       "6772          44  2342           NaN  \n",
       "6840          65  5188           NaN  \n",
       "\n",
       "[11 rows x 25 columns]"
      ]
     },
     "execution_count": 23,
     "metadata": {},
     "output_type": "execute_result"
    }
   ],
   "source": [
    "# Display lines where total charges are not numbers\n",
    "not_numbers_mask = df['Total Charges'].str.contains(r'(\\d+(?:\\.\\d+)?)', regex=True) == False\n",
    "df[not_numbers_mask]"
   ]
  },
  {
   "cell_type": "code",
   "execution_count": 24,
   "id": "0d8a4ae0-e636-4718-9f81-acef5d9d8156",
   "metadata": {},
   "outputs": [
    {
     "data": {
      "text/plain": [
       "2234    0\n",
       "2438    0\n",
       "2568    0\n",
       "2667    0\n",
       "2856    0\n",
       "4331    0\n",
       "4687    0\n",
       "5104    0\n",
       "5719    0\n",
       "6772    0\n",
       "6840    0\n",
       "Name: Tenure Months, dtype: int64"
      ]
     },
     "execution_count": 24,
     "metadata": {},
     "output_type": "execute_result"
    }
   ],
   "source": [
    "df.loc[not_numbers_mask]['Tenure Months']"
   ]
  },
  {
   "cell_type": "code",
   "execution_count": 25,
   "id": "d4450a5d-a50b-42b5-a541-cbeff37f2338",
   "metadata": {},
   "outputs": [
    {
     "data": {
      "text/plain": [
       "2234    52.55\n",
       "2438    20.25\n",
       "2568    80.85\n",
       "2667    25.75\n",
       "2856    56.05\n",
       "4331    19.85\n",
       "4687    25.35\n",
       "5104    20.00\n",
       "5719    19.70\n",
       "6772    73.35\n",
       "6840    61.90\n",
       "Name: Monthly Charges, dtype: float64"
      ]
     },
     "execution_count": 25,
     "metadata": {},
     "output_type": "execute_result"
    }
   ],
   "source": [
    "df.loc[not_numbers_mask]['Monthly Charges']"
   ]
  },
  {
   "cell_type": "code",
   "execution_count": 26,
   "id": "f2a39d8d-1b69-4bee-9001-fc2814204f0e",
   "metadata": {},
   "outputs": [],
   "source": [
    "# Assuming those users are new customers (not a full month), impute the rows with a charge of zero\n",
    "df.loc[not_numbers_mask, 'Total Charges'] = 0\n",
    "\n",
    "# Convert to float\n",
    "df['Total Charges'] = df['Total Charges'].astype('float')"
   ]
  },
  {
   "cell_type": "code",
   "execution_count": 27,
   "id": "12106e55-b38c-4382-bc40-061126861791",
   "metadata": {},
   "outputs": [
    {
     "data": {
      "text/plain": [
       "2234    0.0\n",
       "2438    0.0\n",
       "2568    0.0\n",
       "2667    0.0\n",
       "2856    0.0\n",
       "4331    0.0\n",
       "4687    0.0\n",
       "5104    0.0\n",
       "5719    0.0\n",
       "6772    0.0\n",
       "6840    0.0\n",
       "Name: Total Charges, dtype: float64"
      ]
     },
     "execution_count": 27,
     "metadata": {},
     "output_type": "execute_result"
    }
   ],
   "source": [
    "df.loc[not_numbers_mask]['Total Charges']"
   ]
  },
  {
   "cell_type": "markdown",
   "id": "51ae20f8-381f-4c6c-ae6f-aa6ba452efea",
   "metadata": {},
   "source": [
    "## Data Analysis and Visualization (EDA)"
   ]
  },
  {
   "cell_type": "markdown",
   "id": "5e281f8c-6429-4164-8568-1b8450376e5d",
   "metadata": {},
   "source": [
    "### What is the overall count of churn value?"
   ]
  },
  {
   "cell_type": "code",
   "execution_count": 30,
   "id": "c3dff478-206e-4ef3-9f76-3c876593526b",
   "metadata": {},
   "outputs": [
    {
     "data": {
      "text/plain": [
       "Churn Value\n",
       "0    0.73463\n",
       "1    0.26537\n",
       "Name: proportion, dtype: float64"
      ]
     },
     "execution_count": 30,
     "metadata": {},
     "output_type": "execute_result"
    }
   ],
   "source": [
    "# Data\n",
    "df['Churn Value'].value_counts(normalize=True)\n",
    "\n",
    "## Unbalanced, about a 3 to 1 ratio"
   ]
  },
  {
   "cell_type": "code",
   "execution_count": 31,
   "id": "8d2a262c-83c3-461b-9994-d0f63faba31b",
   "metadata": {},
   "outputs": [
    {
     "data": {
      "image/png": "[encoded data removed]",
      "text/plain": [
       "<Figure size 640x480 with 1 Axes>"
      ]
     },
     "metadata": {},
     "output_type": "display_data"
    }
   ],
   "source": [
    "# Visualization\n",
    "sns.countplot(data=df, x='Churn Value')\n",
    "plt.title('Overall Churn Value')\n",
    "plt.xlabel('Churn Value')\n",
    "plt.ylabel('Count')\n",
    "plt.tight_layout();"
   ]
  },
  {
   "cell_type": "markdown",
   "id": "a90d2b00-9d71-4768-864f-ac4d05434a52",
   "metadata": {},
   "source": [
    "### What is the count of male vs. female by churn value?"
   ]
  },
  {
   "cell_type": "code",
   "execution_count": 33,
   "id": "3e87c96a-3cbc-42cb-95c9-7fb3a78778f7",
   "metadata": {},
   "outputs": [
    {
     "data": {
      "text/html": [
       "<div>\n",
       "<style scoped>\n",
       "    .dataframe tbody tr th:only-of-type {\n",
       "        vertical-align: middle;\n",
       "    }\n",
       "\n",
       "    .dataframe tbody tr th {\n",
       "        vertical-align: top;\n",
       "    }\n",
       "\n",
       "    .dataframe thead th {\n",
       "        text-align: right;\n",
       "    }\n",
       "</style>\n",
       "<table border=\"1\" class=\"dataframe\">\n",
       "  <thead>\n",
       "    <tr style=\"text-align: right;\">\n",
       "      <th></th>\n",
       "      <th>Churn Value</th>\n",
       "      <th>Gender</th>\n",
       "      <th>Count</th>\n",
       "    </tr>\n",
       "  </thead>\n",
       "  <tbody>\n",
       "    <tr>\n",
       "      <th>0</th>\n",
       "      <td>0</td>\n",
       "      <td>Female</td>\n",
       "      <td>2549</td>\n",
       "    </tr>\n",
       "    <tr>\n",
       "      <th>1</th>\n",
       "      <td>0</td>\n",
       "      <td>Male</td>\n",
       "      <td>2625</td>\n",
       "    </tr>\n",
       "    <tr>\n",
       "      <th>2</th>\n",
       "      <td>1</td>\n",
       "      <td>Female</td>\n",
       "      <td>939</td>\n",
       "    </tr>\n",
       "    <tr>\n",
       "      <th>3</th>\n",
       "      <td>1</td>\n",
       "      <td>Male</td>\n",
       "      <td>930</td>\n",
       "    </tr>\n",
       "  </tbody>\n",
       "</table>\n",
       "</div>"
      ],
      "text/plain": [
       "   Churn Value  Gender  Count\n",
       "0            0  Female   2549\n",
       "1            0    Male   2625\n",
       "2            1  Female    939\n",
       "3            1    Male    930"
      ]
     },
     "execution_count": 33,
     "metadata": {},
     "output_type": "execute_result"
    }
   ],
   "source": [
    "# Data\n",
    "counbygender=df.groupby(['Churn Value','Gender'])['CustomerID'].count().reset_index(name='Count')\n",
    "counbygender"
   ]
  },
  {
   "cell_type": "code",
   "execution_count": 34,
   "id": "58a21114-dbf2-4ece-b694-385778d2cd76",
   "metadata": {},
   "outputs": [
    {
     "data": {
      "image/png": "[encoded data removed]",
      "text/plain": [
       "<Figure size 640x480 with 1 Axes>"
      ]
     },
     "metadata": {},
     "output_type": "display_data"
    }
   ],
   "source": [
    "# Visualization\n",
    "sns.barplot(data=counbygender, x='Churn Value', y='Count', hue='Gender').set(title='Male vs. Female Churn')\n",
    "plt.xlabel('Churn Value')\n",
    "plt.ylabel('Count')\n",
    "plt.tight_layout()\n",
    "sns.set(rc={\"figure.figsize\":(12,6)});"
   ]
  },
  {
   "cell_type": "markdown",
   "id": "7451556b-e5bf-4bba-a3ba-2f1957cf5338",
   "metadata": {},
   "source": [
    "### What is the churn value count by contract type?"
   ]
  },
  {
   "cell_type": "code",
   "execution_count": 36,
   "id": "6251058f-3080-4650-aa1a-39bf024ea5ad",
   "metadata": {},
   "outputs": [
    {
     "data": {
      "image/png": "[encoded data removed]",
      "text/plain": [
       "<Figure size 1200x600 with 1 Axes>"
      ]
     },
     "metadata": {},
     "output_type": "display_data"
    }
   ],
   "source": [
    "# Countplot contract type\n",
    "sns.countplot(data=df, x='Churn Value', hue='Contract')\n",
    "plt.title('Churn Value by Contract Type')\n",
    "plt.xlabel('Churn Value')\n",
    "plt.ylabel('Count')\n",
    "plt.tight_layout();\n",
    "\n",
    "## Customers with monthly contracts are most likely to leave"
   ]
  },
  {
   "cell_type": "markdown",
   "id": "ed8735bb-16f6-4c8c-9f63-af8415b90fb8",
   "metadata": {},
   "source": [
    "### Is there a relationship between churn value and monthly charges?"
   ]
  },
  {
   "cell_type": "code",
   "execution_count": 38,
   "id": "11a9b15c-7457-4779-b89c-6a11971605cd",
   "metadata": {},
   "outputs": [
    {
     "data": {
      "text/html": [
       "<div>\n",
       "<style scoped>\n",
       "    .dataframe tbody tr th:only-of-type {\n",
       "        vertical-align: middle;\n",
       "    }\n",
       "\n",
       "    .dataframe tbody tr th {\n",
       "        vertical-align: top;\n",
       "    }\n",
       "\n",
       "    .dataframe thead th {\n",
       "        text-align: right;\n",
       "    }\n",
       "</style>\n",
       "<table border=\"1\" class=\"dataframe\">\n",
       "  <thead>\n",
       "    <tr style=\"text-align: right;\">\n",
       "      <th></th>\n",
       "      <th>Churn Value</th>\n",
       "      <th>Mean</th>\n",
       "    </tr>\n",
       "  </thead>\n",
       "  <tbody>\n",
       "    <tr>\n",
       "      <th>0</th>\n",
       "      <td>0</td>\n",
       "      <td>61.265124</td>\n",
       "    </tr>\n",
       "    <tr>\n",
       "      <th>1</th>\n",
       "      <td>1</td>\n",
       "      <td>74.441332</td>\n",
       "    </tr>\n",
       "  </tbody>\n",
       "</table>\n",
       "</div>"
      ],
      "text/plain": [
       "   Churn Value       Mean\n",
       "0            0  61.265124\n",
       "1            1  74.441332"
      ]
     },
     "execution_count": 38,
     "metadata": {},
     "output_type": "execute_result"
    }
   ],
   "source": [
    "# Data\n",
    "meanbychurn=df.groupby(['Churn Value'])['Monthly Charges'].mean().reset_index(name='Mean')\n",
    "meanbychurn"
   ]
  },
  {
   "cell_type": "code",
   "execution_count": 39,
   "id": "a714cb32-6306-4d06-8e64-3826c02ccc30",
   "metadata": {},
   "outputs": [
    {
     "data": {
      "image/png": "[encoded data removed]",
      "text/plain": [
       "<Figure size 1200x600 with 1 Axes>"
      ]
     },
     "metadata": {},
     "output_type": "display_data"
    }
   ],
   "source": [
    "# Visualization\n",
    "sns.barplot(data=meanbychurn, x='Churn Value', y='Mean').set(title='Mean of Monthly Charges by Churn Value')\n",
    "plt.xlabel('Churn Value')\n",
    "plt.ylabel('Mean of Monthly Charges')\n",
    "plt.tight_layout()\n",
    "sns.set(rc={\"figure.figsize\":(12,6)})"
   ]
  },
  {
   "cell_type": "markdown",
   "id": "1dd289d5-4685-4fd7-b379-abb2a25af354",
   "metadata": {},
   "source": [
    "### What's the most popular payment method?"
   ]
  },
  {
   "cell_type": "code",
   "execution_count": 41,
   "id": "cebfd3db-5a9c-4224-a3e1-679b730a700f",
   "metadata": {},
   "outputs": [
    {
     "data": {
      "text/html": [
       "<div>\n",
       "<style scoped>\n",
       "    .dataframe tbody tr th:only-of-type {\n",
       "        vertical-align: middle;\n",
       "    }\n",
       "\n",
       "    .dataframe tbody tr th {\n",
       "        vertical-align: top;\n",
       "    }\n",
       "\n",
       "    .dataframe thead th {\n",
       "        text-align: right;\n",
       "    }\n",
       "</style>\n",
       "<table border=\"1\" class=\"dataframe\">\n",
       "  <thead>\n",
       "    <tr style=\"text-align: right;\">\n",
       "      <th></th>\n",
       "      <th>Payment Method</th>\n",
       "      <th>Count</th>\n",
       "    </tr>\n",
       "  </thead>\n",
       "  <tbody>\n",
       "    <tr>\n",
       "      <th>2</th>\n",
       "      <td>Electronic check</td>\n",
       "      <td>2365</td>\n",
       "    </tr>\n",
       "    <tr>\n",
       "      <th>3</th>\n",
       "      <td>Mailed check</td>\n",
       "      <td>1612</td>\n",
       "    </tr>\n",
       "    <tr>\n",
       "      <th>0</th>\n",
       "      <td>Bank transfer (automatic)</td>\n",
       "      <td>1544</td>\n",
       "    </tr>\n",
       "    <tr>\n",
       "      <th>1</th>\n",
       "      <td>Credit card (automatic)</td>\n",
       "      <td>1522</td>\n",
       "    </tr>\n",
       "  </tbody>\n",
       "</table>\n",
       "</div>"
      ],
      "text/plain": [
       "              Payment Method  Count\n",
       "2           Electronic check   2365\n",
       "3               Mailed check   1612\n",
       "0  Bank transfer (automatic)   1544\n",
       "1    Credit card (automatic)   1522"
      ]
     },
     "execution_count": 41,
     "metadata": {},
     "output_type": "execute_result"
    }
   ],
   "source": [
    "# Data\n",
    "counbymethod=df.groupby(['Payment Method'])['CustomerID'].count().reset_index(name='Count')\n",
    "counbymethod = counbymethod.sort_values(by=['Count'], ascending=False)\n",
    "counbymethod"
   ]
  },
  {
   "cell_type": "code",
   "execution_count": 42,
   "id": "06d9d2ed-e4f2-464e-a801-8fc0fb69d533",
   "metadata": {},
   "outputs": [
    {
     "data": {
      "image/png": "[encoded data removed]",
      "text/plain": [
       "<Figure size 1200x600 with 1 Axes>"
      ]
     },
     "metadata": {},
     "output_type": "display_data"
    }
   ],
   "source": [
    "# Visualization\n",
    "sns.barplot(data=counbymethod, x='Payment Method', y='Count').set(title='Count by Payment Methods')\n",
    "plt.xlabel('Payment Method')\n",
    "plt.ylabel('Count')\n",
    "plt.tight_layout()\n",
    "sns.set(rc={\"figure.figsize\":(12,6)})"
   ]
  },
  {
   "cell_type": "markdown",
   "id": "1efa6c60-5053-4cd7-9271-7fad29ac2aca",
   "metadata": {},
   "source": [
    "### Do more people enroll in device protection?"
   ]
  },
  {
   "cell_type": "code",
   "execution_count": 44,
   "id": "348e3417-ed34-4ae2-929b-bb5b291bd662",
   "metadata": {},
   "outputs": [
    {
     "data": {
      "text/html": [
       "<div>\n",
       "<style scoped>\n",
       "    .dataframe tbody tr th:only-of-type {\n",
       "        vertical-align: middle;\n",
       "    }\n",
       "\n",
       "    .dataframe tbody tr th {\n",
       "        vertical-align: top;\n",
       "    }\n",
       "\n",
       "    .dataframe thead th {\n",
       "        text-align: right;\n",
       "    }\n",
       "</style>\n",
       "<table border=\"1\" class=\"dataframe\">\n",
       "  <thead>\n",
       "    <tr style=\"text-align: right;\">\n",
       "      <th></th>\n",
       "      <th>Device Protection</th>\n",
       "      <th>Count</th>\n",
       "    </tr>\n",
       "  </thead>\n",
       "  <tbody>\n",
       "    <tr>\n",
       "      <th>0</th>\n",
       "      <td>No</td>\n",
       "      <td>3095</td>\n",
       "    </tr>\n",
       "    <tr>\n",
       "      <th>1</th>\n",
       "      <td>No internet service</td>\n",
       "      <td>1526</td>\n",
       "    </tr>\n",
       "    <tr>\n",
       "      <th>2</th>\n",
       "      <td>Yes</td>\n",
       "      <td>2422</td>\n",
       "    </tr>\n",
       "  </tbody>\n",
       "</table>\n",
       "</div>"
      ],
      "text/plain": [
       "     Device Protection  Count\n",
       "0                   No   3095\n",
       "1  No internet service   1526\n",
       "2                  Yes   2422"
      ]
     },
     "execution_count": 44,
     "metadata": {},
     "output_type": "execute_result"
    }
   ],
   "source": [
    "# Data\n",
    "countbyprot=df.groupby(['Device Protection'])['CustomerID'].count().reset_index(name='Count')\n",
    "countbyprot"
   ]
  },
  {
   "cell_type": "code",
   "execution_count": 45,
   "id": "a9aa374a-9105-4f6d-80c6-f2387e92f55b",
   "metadata": {},
   "outputs": [
    {
     "data": {
      "image/png": "[encoded data removed]",
      "text/plain": [
       "<Figure size 1200x600 with 1 Axes>"
      ]
     },
     "metadata": {},
     "output_type": "display_data"
    }
   ],
   "source": [
    "# Visualization\n",
    "sns.barplot(data=countbyprot, x='Device Protection', y='Count').set(title='Count of Customers by Device Protection')\n",
    "plt.xlabel('Device Protection')\n",
    "plt.ylabel('Count of Customers')\n",
    "plt.tight_layout()\n",
    "sns.set(rc={\"figure.figsize\":(12,6)})"
   ]
  },
  {
   "cell_type": "markdown",
   "id": "5d8fb1c6-5529-4761-bf6a-fab2840e0df9",
   "metadata": {},
   "source": [
    "### Do more people go paperless?"
   ]
  },
  {
   "cell_type": "code",
   "execution_count": 47,
   "id": "439d4370-db53-40f2-93d0-4eff4267a317",
   "metadata": {},
   "outputs": [
    {
     "data": {
      "text/html": [
       "<div>\n",
       "<style scoped>\n",
       "    .dataframe tbody tr th:only-of-type {\n",
       "        vertical-align: middle;\n",
       "    }\n",
       "\n",
       "    .dataframe tbody tr th {\n",
       "        vertical-align: top;\n",
       "    }\n",
       "\n",
       "    .dataframe thead th {\n",
       "        text-align: right;\n",
       "    }\n",
       "</style>\n",
       "<table border=\"1\" class=\"dataframe\">\n",
       "  <thead>\n",
       "    <tr style=\"text-align: right;\">\n",
       "      <th></th>\n",
       "      <th>Paperless Billing</th>\n",
       "      <th>Count</th>\n",
       "    </tr>\n",
       "  </thead>\n",
       "  <tbody>\n",
       "    <tr>\n",
       "      <th>0</th>\n",
       "      <td>No</td>\n",
       "      <td>2872</td>\n",
       "    </tr>\n",
       "    <tr>\n",
       "      <th>1</th>\n",
       "      <td>Yes</td>\n",
       "      <td>4171</td>\n",
       "    </tr>\n",
       "  </tbody>\n",
       "</table>\n",
       "</div>"
      ],
      "text/plain": [
       "  Paperless Billing  Count\n",
       "0                No   2872\n",
       "1               Yes   4171"
      ]
     },
     "execution_count": 47,
     "metadata": {},
     "output_type": "execute_result"
    }
   ],
   "source": [
    "# Data\n",
    "countbypaper=df.groupby(['Paperless Billing'])['CustomerID'].count().reset_index(name='Count')\n",
    "countbypaper"
   ]
  },
  {
   "cell_type": "code",
   "execution_count": 48,
   "id": "fa5d5199-efaa-4b54-8cd7-6731d4f2dafb",
   "metadata": {},
   "outputs": [
    {
     "data": {
      "image/png": "[encoded data removed]",
      "text/plain": [
       "<Figure size 1200x600 with 1 Axes>"
      ]
     },
     "metadata": {},
     "output_type": "display_data"
    }
   ],
   "source": [
    "# Visualization\n",
    "sns.barplot(data=countbypaper, x='Paperless Billing', y='Count').set(title='Count of Customers With vs. Without Paperless Billing')\n",
    "plt.xlabel('Paperless Billing')\n",
    "plt.ylabel('Count of Customers')\n",
    "plt.tight_layout()\n",
    "sns.set(rc={\"figure.figsize\":(12,6)})"
   ]
  },
  {
   "cell_type": "markdown",
   "id": "df8a2ea1-2a83-42a5-915c-ffbfb0f536fe",
   "metadata": {},
   "source": [
    "### What are the top 5 reasons why customers churn?"
   ]
  },
  {
   "cell_type": "code",
   "execution_count": 50,
   "id": "386f3325-f62b-4995-bd72-661400d71b52",
   "metadata": {},
   "outputs": [
    {
     "data": {
      "text/html": [
       "<div>\n",
       "<style scoped>\n",
       "    .dataframe tbody tr th:only-of-type {\n",
       "        vertical-align: middle;\n",
       "    }\n",
       "\n",
       "    .dataframe tbody tr th {\n",
       "        vertical-align: top;\n",
       "    }\n",
       "\n",
       "    .dataframe thead th {\n",
       "        text-align: right;\n",
       "    }\n",
       "</style>\n",
       "<table border=\"1\" class=\"dataframe\">\n",
       "  <thead>\n",
       "    <tr style=\"text-align: right;\">\n",
       "      <th></th>\n",
       "      <th>Churn Reason</th>\n",
       "    </tr>\n",
       "    <tr>\n",
       "      <th>Rank</th>\n",
       "      <th></th>\n",
       "    </tr>\n",
       "  </thead>\n",
       "  <tbody>\n",
       "    <tr>\n",
       "      <th>1</th>\n",
       "      <td>Attitude of support person</td>\n",
       "    </tr>\n",
       "    <tr>\n",
       "      <th>2</th>\n",
       "      <td>Competitor offered higher download speeds</td>\n",
       "    </tr>\n",
       "    <tr>\n",
       "      <th>3</th>\n",
       "      <td>Competitor offered more data</td>\n",
       "    </tr>\n",
       "    <tr>\n",
       "      <th>4</th>\n",
       "      <td>Don't know</td>\n",
       "    </tr>\n",
       "    <tr>\n",
       "      <th>5</th>\n",
       "      <td>Competitor made better offer</td>\n",
       "    </tr>\n",
       "  </tbody>\n",
       "</table>\n",
       "</div>"
      ],
      "text/plain": [
       "                                   Churn Reason\n",
       "Rank                                           \n",
       "1                    Attitude of support person\n",
       "2     Competitor offered higher download speeds\n",
       "3                  Competitor offered more data\n",
       "4                                    Don't know\n",
       "5                  Competitor made better offer"
      ]
     },
     "execution_count": 50,
     "metadata": {},
     "output_type": "execute_result"
    }
   ],
   "source": [
    "top_5 = pd.DataFrame(df['Churn Reason'].value_counts().head(5)).reset_index()\n",
    "top_5['Rank'] = top_5['count'].rank(ascending=False).astype('int')\n",
    "top_5 = top_5[['Rank', 'Churn Reason']].set_index('Rank')\n",
    "top_5\n",
    "\n",
    "## This shows that customer service is an important factor for most people when choosing a telco company"
   ]
  },
  {
   "cell_type": "markdown",
   "id": "4430688d-6f69-49f8-ba2b-4129736528af",
   "metadata": {},
   "source": [
    "### What is the most correlated factor to churn value?"
   ]
  },
  {
   "cell_type": "code",
   "execution_count": 52,
   "id": "c6f990aa-5f41-4018-8bc8-75ba8072647a",
   "metadata": {},
   "outputs": [
    {
     "data": {
      "image/png": "[encoded data removed]",
      "text/plain": [
       "<Figure size 1200x600 with 2 Axes>"
      ]
     },
     "metadata": {},
     "output_type": "display_data"
    }
   ],
   "source": [
    "# Heatmap\n",
    "corr_matrix = df.corr(numeric_only=True)\n",
    "sns.heatmap(corr_matrix, annot=True)\n",
    "plt.tight_layout();"
   ]
  },
  {
   "cell_type": "code",
   "execution_count": 53,
   "id": "3d1ef74e-5c83-4de0-affb-95949d66f1db",
   "metadata": {},
   "outputs": [
    {
     "data": {
      "text/plain": [
       "Tenure Months     -0.352229\n",
       "Total Charges     -0.198324\n",
       "CLTV              -0.127463\n",
       "Monthly Charges    0.193356\n",
       "Churn Score        0.664897\n",
       "Name: Churn Value, dtype: float64"
      ]
     },
     "execution_count": 53,
     "metadata": {},
     "output_type": "execute_result"
    }
   ],
   "source": [
    "# Correlations with Churn Value\n",
    "correlations = corr_matrix.loc['Churn Value'].drop(['Churn Value']).sort_values()\n",
    "correlations"
   ]
  },
  {
   "cell_type": "code",
   "execution_count": 54,
   "id": "28b13941-cfe7-4f5b-971e-d9f454d0b023",
   "metadata": {},
   "outputs": [
    {
     "data": {
      "image/png": "[encoded data removed]",
      "text/plain": [
       "<Figure size 1200x600 with 1 Axes>"
      ]
     },
     "metadata": {},
     "output_type": "display_data"
    }
   ],
   "source": [
    "# Correlation barplot\n",
    "sns.barplot(data=correlations)\n",
    "plt.tick_params(axis='x', rotation=90)\n",
    "plt.title('Correlation Barplot')\n",
    "plt.tight_layout();\n",
    "\n",
    "## The churn score is the most correlated factor"
   ]
  },
  {
   "cell_type": "markdown",
   "id": "ee2f3e64-f3c3-45b3-bf18-47e7ff1e80b6",
   "metadata": {},
   "source": [
    "## Data Preprocessing"
   ]
  },
  {
   "cell_type": "markdown",
   "id": "7f19c438-294a-4b16-86f6-6645c71d692a",
   "metadata": {},
   "source": [
    "**Drop redundant columns**\n",
    "\n",
    "CustomerID: Not necessary\n",
    "\n",
    "Count: We can count the rows without it\n",
    "\n",
    "Country: All USA\n",
    "\n",
    "State: All California\n",
    "\n",
    "Zip Code , Lat Long, Latitude, Longitude: One feature for location is enough\n",
    "\n",
    "Churn Label: We have the churn value\n",
    "\n",
    "Churn Reason: We can't convert this column in categorical values"
   ]
  },
  {
   "cell_type": "code",
   "execution_count": null,
   "id": "b34a5bf6-6fd6-4c3f-8eb7-842cb2356cbb",
   "metadata": {},
   "outputs": [],
   "source": [
    "df = df.drop(['CustomerID',\n",
    "              'Count',\n",
    "              'Country',\n",
    "              'State',\n",
    "              'Zip Code',\n",
    "              'Lat Long',\n",
    "              'Latitude',\n",
    "              'Longitude',\n",
    "              'Churn Label',\n",
    "              'Churn Reason'], axis=1)"
   ]
  },
  {
   "cell_type": "code",
   "execution_count": 56,
   "id": "1e670dc4-efc4-4155-a604-f4550ee9a9a7",
   "metadata": {},
   "outputs": [],
   "source": [
    "# Drop Churn Reason and Customer ID\n",
    "df = df.drop(['Churn Reason', 'CustomerID'], axis=1)"
   ]
  },
  {
   "cell_type": "code",
   "execution_count": 57,
   "id": "48ef64a7-717d-4951-b2e6-3a869c4484c1",
   "metadata": {},
   "outputs": [
    {
     "data": {
      "text/plain": [
       "0       305\n",
       "1       305\n",
       "2       305\n",
       "3       305\n",
       "4       305\n",
       "       ... \n",
       "7038      5\n",
       "7039      5\n",
       "7040      5\n",
       "7041      5\n",
       "7042     10\n",
       "Name: City, Length: 7043, dtype: int64"
      ]
     },
     "execution_count": 57,
     "metadata": {},
     "output_type": "execute_result"
    }
   ],
   "source": [
    "# Use Frequency Encoding for City\n",
    "freq_map = df['City'].value_counts()\n",
    "df['City'] = df['City'].map(freq_map)\n",
    "df['City']"
   ]
  },
  {
   "cell_type": "code",
   "execution_count": 58,
   "id": "e882c14f-24d2-4524-929c-9261c93ace7f",
   "metadata": {},
   "outputs": [
    {
     "data": {
      "text/plain": [
       "['Gender',\n",
       " 'Senior Citizen',\n",
       " 'Partner',\n",
       " 'Dependents',\n",
       " 'Phone Service',\n",
       " 'Multiple Lines',\n",
       " 'Internet Service',\n",
       " 'Online Security',\n",
       " 'Online Backup',\n",
       " 'Device Protection',\n",
       " 'Tech Support',\n",
       " 'Streaming TV',\n",
       " 'Streaming Movies',\n",
       " 'Contract',\n",
       " 'Paperless Billing',\n",
       " 'Payment Method']"
      ]
     },
     "execution_count": 58,
     "metadata": {},
     "output_type": "execute_result"
    }
   ],
   "source": [
    "# Get remaining string columns\n",
    "is_string = (df.map(type) == str).all()\n",
    "string_columns = list(is_string[is_string].index)\n",
    "string_columns"
   ]
  },
  {
   "cell_type": "code",
   "execution_count": 59,
   "id": "f323e6f5-8d0f-4e6d-ac6f-0885f8106261",
   "metadata": {},
   "outputs": [
    {
     "data": {
      "text/plain": [
       "Multiple Lines       3\n",
       "Internet Service     3\n",
       "Online Security      3\n",
       "Online Backup        3\n",
       "Device Protection    3\n",
       "Tech Support         3\n",
       "Streaming TV         3\n",
       "Streaming Movies     3\n",
       "Contract             3\n",
       "Payment Method       4\n",
       "dtype: int64"
      ]
     },
     "execution_count": 59,
     "metadata": {},
     "output_type": "execute_result"
    }
   ],
   "source": [
    "# Get columns with more than 2 unique values\n",
    "nb_unique = df[string_columns].nunique()\n",
    "more_than_two = nb_unique[nb_unique > 2]\n",
    "more_than_two"
   ]
  },
  {
   "cell_type": "code",
   "execution_count": 60,
   "id": "43c9d7aa-4657-4852-8c8e-f688da72ee60",
   "metadata": {},
   "outputs": [
    {
     "name": "stdout",
     "output_type": "stream",
     "text": [
      "Multiple Lines: No, Yes, No phone service\n",
      "Internet Service: DSL, Fiber optic, No\n",
      "Online Security: Yes, No, No internet service\n",
      "Online Backup: Yes, No, No internet service\n",
      "Device Protection: No, Yes, No internet service\n",
      "Tech Support: No, Yes, No internet service\n",
      "Streaming TV: No, Yes, No internet service\n",
      "Streaming Movies: No, Yes, No internet service\n",
      "Contract: Month-to-month, Two year, One year\n",
      "Payment Method: Mailed check, Electronic check, Bank transfer (automatic), Credit card (automatic)\n"
     ]
    }
   ],
   "source": [
    "# Print the unique values\n",
    "for column in more_than_two.index:\n",
    "    print(column + ': ' + ', '.join(df[column].unique()))"
   ]
  },
  {
   "cell_type": "code",
   "execution_count": 61,
   "id": "83c2e6a7-216b-4cdb-8fee-a80a552cd216",
   "metadata": {},
   "outputs": [
    {
     "data": {
      "text/plain": [
       "array(['No', 'Yes'], dtype=object)"
      ]
     },
     "execution_count": 61,
     "metadata": {},
     "output_type": "execute_result"
    }
   ],
   "source": [
    "# Regroup data of Multiple Lines\n",
    "df['Multiple Lines'] = np.where(df['Multiple Lines'] == 'No phone service', 'No', df['Multiple Lines'])\n",
    "df['Multiple Lines'].unique()"
   ]
  },
  {
   "cell_type": "code",
   "execution_count": 62,
   "id": "ba068c5b-a9f6-426e-b829-a68be529723c",
   "metadata": {},
   "outputs": [
    {
     "data": {
      "text/plain": [
       "array(['Yes', 'No'], dtype=object)"
      ]
     },
     "execution_count": 62,
     "metadata": {},
     "output_type": "execute_result"
    }
   ],
   "source": [
    "# Regroup data of Online Security\n",
    "df['Online Security'] = np.where(df['Online Security'] == 'No internet service', 'No', df['Online Security'])\n",
    "df['Online Security'].unique()"
   ]
  },
  {
   "cell_type": "code",
   "execution_count": 63,
   "id": "86344a3a-8c8d-4ac6-8d2c-98ab325364e4",
   "metadata": {},
   "outputs": [
    {
     "data": {
      "text/plain": [
       "array(['Yes', 'No'], dtype=object)"
      ]
     },
     "execution_count": 63,
     "metadata": {},
     "output_type": "execute_result"
    }
   ],
   "source": [
    "# Regroup data of Online Backup\n",
    "df['Online Backup'] = np.where(df['Online Backup'] == 'No internet service', 'No', df['Online Backup'])\n",
    "df['Online Backup'].unique()"
   ]
  },
  {
   "cell_type": "code",
   "execution_count": 64,
   "id": "5ebfaa2e-63c4-4251-a248-bd75bb330a5f",
   "metadata": {},
   "outputs": [
    {
     "data": {
      "text/plain": [
       "array(['No', 'Yes'], dtype=object)"
      ]
     },
     "execution_count": 64,
     "metadata": {},
     "output_type": "execute_result"
    }
   ],
   "source": [
    "# Regroup data of Device Protection\n",
    "df['Device Protection'] = np.where(df['Device Protection'] == 'No internet service', 'No', df['Device Protection'])\n",
    "df['Device Protection'].unique()"
   ]
  },
  {
   "cell_type": "code",
   "execution_count": 65,
   "id": "65c9f04e-bed8-49d9-9d32-185edb149fd4",
   "metadata": {},
   "outputs": [
    {
     "data": {
      "text/plain": [
       "array(['No', 'Yes'], dtype=object)"
      ]
     },
     "execution_count": 65,
     "metadata": {},
     "output_type": "execute_result"
    }
   ],
   "source": [
    "# Regroup data of Tech Support\n",
    "df['Tech Support'] = np.where(df['Tech Support'] == 'No internet service', 'No', df['Tech Support'])\n",
    "df['Tech Support'].unique()"
   ]
  },
  {
   "cell_type": "code",
   "execution_count": 66,
   "id": "8520eaaf-d734-45ab-a10b-a27824c5a680",
   "metadata": {},
   "outputs": [
    {
     "data": {
      "text/plain": [
       "array(['No', 'Yes'], dtype=object)"
      ]
     },
     "execution_count": 66,
     "metadata": {},
     "output_type": "execute_result"
    }
   ],
   "source": [
    "# Regroup data of Streaming TV\n",
    "df['Streaming TV'] = np.where(df['Streaming TV'] == 'No internet service', 'No', df['Streaming TV'])\n",
    "df['Streaming TV'].unique()"
   ]
  },
  {
   "cell_type": "code",
   "execution_count": 67,
   "id": "4506f2dc-1235-48b9-b8dd-7e24ac124b96",
   "metadata": {},
   "outputs": [
    {
     "data": {
      "text/plain": [
       "array(['No', 'Yes'], dtype=object)"
      ]
     },
     "execution_count": 67,
     "metadata": {},
     "output_type": "execute_result"
    }
   ],
   "source": [
    "# Regroup data of Streaming Movies\n",
    "df['Streaming Movies'] = np.where(df['Streaming Movies'] == 'No internet service', 'No', df['Streaming Movies'])\n",
    "df['Streaming Movies'].unique()"
   ]
  },
  {
   "cell_type": "code",
   "execution_count": 68,
   "id": "aedf6d04-bbdf-4750-9229-f3f14ee98875",
   "metadata": {},
   "outputs": [
    {
     "data": {
      "text/plain": [
       "Internet Service    3\n",
       "Contract            3\n",
       "Payment Method      4\n",
       "dtype: int64"
      ]
     },
     "execution_count": 68,
     "metadata": {},
     "output_type": "execute_result"
    }
   ],
   "source": [
    "# Double check all string columns have no more than 2 unique values\n",
    "# Except for Internet Service, Contract and Payment Method\n",
    "nb_unique = df[string_columns].nunique()\n",
    "more_than_two = nb_unique[nb_unique > 2]\n",
    "more_than_two"
   ]
  },
  {
   "cell_type": "code",
   "execution_count": 69,
   "id": "d4d1eb99-b41f-41f4-978b-ed1be28b503a",
   "metadata": {},
   "outputs": [],
   "source": [
    "# Une One Hot Encoding for non-numeric columns\n",
    "from sklearn.preprocessing import OneHotEncoder\n",
    "\n",
    "encoder = OneHotEncoder(drop='first', sparse_output=False)\n",
    "encoded_cols = encoder.fit_transform(df[string_columns])\n",
    "new_df = pd.DataFrame(encoded_cols, columns=encoder.get_feature_names_out(string_columns))\n",
    "df = df.drop(columns=string_columns, axis=1).join(new_df)"
   ]
  },
  {
   "cell_type": "code",
   "execution_count": 70,
   "id": "6618682f-16b8-4203-a939-cd17eb165bd5",
   "metadata": {},
   "outputs": [
    {
     "data": {
      "text/plain": [
       "True"
      ]
     },
     "execution_count": 70,
     "metadata": {},
     "output_type": "execute_result"
    }
   ],
   "source": [
    "# Assert all columns are numeric\n",
    "len(df.columns) == len(df.select_dtypes([np.number]).columns)"
   ]
  },
  {
   "cell_type": "code",
   "execution_count": 71,
   "id": "a190e57b-a9af-4425-97e0-b3c524c0be83",
   "metadata": {},
   "outputs": [
    {
     "data": {
      "text/html": [
       "<div>\n",
       "<style scoped>\n",
       "    .dataframe tbody tr th:only-of-type {\n",
       "        vertical-align: middle;\n",
       "    }\n",
       "\n",
       "    .dataframe tbody tr th {\n",
       "        vertical-align: top;\n",
       "    }\n",
       "\n",
       "    .dataframe thead th {\n",
       "        text-align: right;\n",
       "    }\n",
       "</style>\n",
       "<table border=\"1\" class=\"dataframe\">\n",
       "  <thead>\n",
       "    <tr style=\"text-align: right;\">\n",
       "      <th></th>\n",
       "      <th>City</th>\n",
       "      <th>Tenure Months</th>\n",
       "      <th>Monthly Charges</th>\n",
       "      <th>Total Charges</th>\n",
       "      <th>Churn Value</th>\n",
       "      <th>Churn Score</th>\n",
       "      <th>CLTV</th>\n",
       "      <th>Gender_Male</th>\n",
       "      <th>Senior Citizen_Yes</th>\n",
       "      <th>Partner_Yes</th>\n",
       "      <th>...</th>\n",
       "      <th>Device Protection_Yes</th>\n",
       "      <th>Tech Support_Yes</th>\n",
       "      <th>Streaming TV_Yes</th>\n",
       "      <th>Streaming Movies_Yes</th>\n",
       "      <th>Contract_One year</th>\n",
       "      <th>Contract_Two year</th>\n",
       "      <th>Paperless Billing_Yes</th>\n",
       "      <th>Payment Method_Credit card (automatic)</th>\n",
       "      <th>Payment Method_Electronic check</th>\n",
       "      <th>Payment Method_Mailed check</th>\n",
       "    </tr>\n",
       "  </thead>\n",
       "  <tbody>\n",
       "    <tr>\n",
       "      <th>0</th>\n",
       "      <td>305</td>\n",
       "      <td>2</td>\n",
       "      <td>53.85</td>\n",
       "      <td>108.15</td>\n",
       "      <td>1</td>\n",
       "      <td>86</td>\n",
       "      <td>3239</td>\n",
       "      <td>1.0</td>\n",
       "      <td>0.0</td>\n",
       "      <td>0.0</td>\n",
       "      <td>...</td>\n",
       "      <td>0.0</td>\n",
       "      <td>0.0</td>\n",
       "      <td>0.0</td>\n",
       "      <td>0.0</td>\n",
       "      <td>0.0</td>\n",
       "      <td>0.0</td>\n",
       "      <td>1.0</td>\n",
       "      <td>0.0</td>\n",
       "      <td>0.0</td>\n",
       "      <td>1.0</td>\n",
       "    </tr>\n",
       "    <tr>\n",
       "      <th>1</th>\n",
       "      <td>305</td>\n",
       "      <td>2</td>\n",
       "      <td>70.70</td>\n",
       "      <td>151.65</td>\n",
       "      <td>1</td>\n",
       "      <td>67</td>\n",
       "      <td>2701</td>\n",
       "      <td>0.0</td>\n",
       "      <td>0.0</td>\n",
       "      <td>0.0</td>\n",
       "      <td>...</td>\n",
       "      <td>0.0</td>\n",
       "      <td>0.0</td>\n",
       "      <td>0.0</td>\n",
       "      <td>0.0</td>\n",
       "      <td>0.0</td>\n",
       "      <td>0.0</td>\n",
       "      <td>1.0</td>\n",
       "      <td>0.0</td>\n",
       "      <td>1.0</td>\n",
       "      <td>0.0</td>\n",
       "    </tr>\n",
       "    <tr>\n",
       "      <th>2</th>\n",
       "      <td>305</td>\n",
       "      <td>8</td>\n",
       "      <td>99.65</td>\n",
       "      <td>820.50</td>\n",
       "      <td>1</td>\n",
       "      <td>86</td>\n",
       "      <td>5372</td>\n",
       "      <td>0.0</td>\n",
       "      <td>0.0</td>\n",
       "      <td>0.0</td>\n",
       "      <td>...</td>\n",
       "      <td>1.0</td>\n",
       "      <td>0.0</td>\n",
       "      <td>1.0</td>\n",
       "      <td>1.0</td>\n",
       "      <td>0.0</td>\n",
       "      <td>0.0</td>\n",
       "      <td>1.0</td>\n",
       "      <td>0.0</td>\n",
       "      <td>1.0</td>\n",
       "      <td>0.0</td>\n",
       "    </tr>\n",
       "    <tr>\n",
       "      <th>3</th>\n",
       "      <td>305</td>\n",
       "      <td>28</td>\n",
       "      <td>104.80</td>\n",
       "      <td>3046.05</td>\n",
       "      <td>1</td>\n",
       "      <td>84</td>\n",
       "      <td>5003</td>\n",
       "      <td>0.0</td>\n",
       "      <td>0.0</td>\n",
       "      <td>1.0</td>\n",
       "      <td>...</td>\n",
       "      <td>1.0</td>\n",
       "      <td>1.0</td>\n",
       "      <td>1.0</td>\n",
       "      <td>1.0</td>\n",
       "      <td>0.0</td>\n",
       "      <td>0.0</td>\n",
       "      <td>1.0</td>\n",
       "      <td>0.0</td>\n",
       "      <td>1.0</td>\n",
       "      <td>0.0</td>\n",
       "    </tr>\n",
       "    <tr>\n",
       "      <th>4</th>\n",
       "      <td>305</td>\n",
       "      <td>49</td>\n",
       "      <td>103.70</td>\n",
       "      <td>5036.30</td>\n",
       "      <td>1</td>\n",
       "      <td>89</td>\n",
       "      <td>5340</td>\n",
       "      <td>1.0</td>\n",
       "      <td>0.0</td>\n",
       "      <td>0.0</td>\n",
       "      <td>...</td>\n",
       "      <td>1.0</td>\n",
       "      <td>0.0</td>\n",
       "      <td>1.0</td>\n",
       "      <td>1.0</td>\n",
       "      <td>0.0</td>\n",
       "      <td>0.0</td>\n",
       "      <td>1.0</td>\n",
       "      <td>0.0</td>\n",
       "      <td>0.0</td>\n",
       "      <td>0.0</td>\n",
       "    </tr>\n",
       "  </tbody>\n",
       "</table>\n",
       "<p>5 rows × 27 columns</p>\n",
       "</div>"
      ],
      "text/plain": [
       "   City  Tenure Months  Monthly Charges  Total Charges  Churn Value  \\\n",
       "0   305              2            53.85         108.15            1   \n",
       "1   305              2            70.70         151.65            1   \n",
       "2   305              8            99.65         820.50            1   \n",
       "3   305             28           104.80        3046.05            1   \n",
       "4   305             49           103.70        5036.30            1   \n",
       "\n",
       "   Churn Score  CLTV  Gender_Male  Senior Citizen_Yes  Partner_Yes  ...  \\\n",
       "0           86  3239          1.0                 0.0          0.0  ...   \n",
       "1           67  2701          0.0                 0.0          0.0  ...   \n",
       "2           86  5372          0.0                 0.0          0.0  ...   \n",
       "3           84  5003          0.0                 0.0          1.0  ...   \n",
       "4           89  5340          1.0                 0.0          0.0  ...   \n",
       "\n",
       "   Device Protection_Yes  Tech Support_Yes  Streaming TV_Yes  \\\n",
       "0                    0.0               0.0               0.0   \n",
       "1                    0.0               0.0               0.0   \n",
       "2                    1.0               0.0               1.0   \n",
       "3                    1.0               1.0               1.0   \n",
       "4                    1.0               0.0               1.0   \n",
       "\n",
       "   Streaming Movies_Yes  Contract_One year  Contract_Two year  \\\n",
       "0                   0.0                0.0                0.0   \n",
       "1                   0.0                0.0                0.0   \n",
       "2                   1.0                0.0                0.0   \n",
       "3                   1.0                0.0                0.0   \n",
       "4                   1.0                0.0                0.0   \n",
       "\n",
       "   Paperless Billing_Yes  Payment Method_Credit card (automatic)  \\\n",
       "0                    1.0                                     0.0   \n",
       "1                    1.0                                     0.0   \n",
       "2                    1.0                                     0.0   \n",
       "3                    1.0                                     0.0   \n",
       "4                    1.0                                     0.0   \n",
       "\n",
       "   Payment Method_Electronic check  Payment Method_Mailed check  \n",
       "0                              0.0                          1.0  \n",
       "1                              1.0                          0.0  \n",
       "2                              1.0                          0.0  \n",
       "3                              1.0                          0.0  \n",
       "4                              0.0                          0.0  \n",
       "\n",
       "[5 rows x 27 columns]"
      ]
     },
     "execution_count": 71,
     "metadata": {},
     "output_type": "execute_result"
    }
   ],
   "source": [
    "df.head()"
   ]
  },
  {
   "cell_type": "code",
   "execution_count": 72,
   "id": "12a7cd18-64ba-41d0-9da5-01084e72e1b8",
   "metadata": {},
   "outputs": [
    {
     "name": "stdout",
     "output_type": "stream",
     "text": [
      "<class 'pandas.core.frame.DataFrame'>\n",
      "RangeIndex: 7043 entries, 0 to 7042\n",
      "Data columns (total 27 columns):\n",
      " #   Column                                  Non-Null Count  Dtype  \n",
      "---  ------                                  --------------  -----  \n",
      " 0   City                                    7043 non-null   int64  \n",
      " 1   Tenure Months                           7043 non-null   int64  \n",
      " 2   Monthly Charges                         7043 non-null   float64\n",
      " 3   Total Charges                           7043 non-null   float64\n",
      " 4   Churn Value                             7043 non-null   int64  \n",
      " 5   Churn Score                             7043 non-null   int64  \n",
      " 6   CLTV                                    7043 non-null   int64  \n",
      " 7   Gender_Male                             7043 non-null   float64\n",
      " 8   Senior Citizen_Yes                      7043 non-null   float64\n",
      " 9   Partner_Yes                             7043 non-null   float64\n",
      " 10  Dependents_Yes                          7043 non-null   float64\n",
      " 11  Phone Service_Yes                       7043 non-null   float64\n",
      " 12  Multiple Lines_Yes                      7043 non-null   float64\n",
      " 13  Internet Service_Fiber optic            7043 non-null   float64\n",
      " 14  Internet Service_No                     7043 non-null   float64\n",
      " 15  Online Security_Yes                     7043 non-null   float64\n",
      " 16  Online Backup_Yes                       7043 non-null   float64\n",
      " 17  Device Protection_Yes                   7043 non-null   float64\n",
      " 18  Tech Support_Yes                        7043 non-null   float64\n",
      " 19  Streaming TV_Yes                        7043 non-null   float64\n",
      " 20  Streaming Movies_Yes                    7043 non-null   float64\n",
      " 21  Contract_One year                       7043 non-null   float64\n",
      " 22  Contract_Two year                       7043 non-null   float64\n",
      " 23  Paperless Billing_Yes                   7043 non-null   float64\n",
      " 24  Payment Method_Credit card (automatic)  7043 non-null   float64\n",
      " 25  Payment Method_Electronic check         7043 non-null   float64\n",
      " 26  Payment Method_Mailed check             7043 non-null   float64\n",
      "dtypes: float64(22), int64(5)\n",
      "memory usage: 1.5 MB\n"
     ]
    }
   ],
   "source": [
    "df.info()"
   ]
  },
  {
   "cell_type": "markdown",
   "id": "660bdd0d-780d-4b8f-bb78-dfe460e3799e",
   "metadata": {},
   "source": [
    "## Data Modeling"
   ]
  },
  {
   "cell_type": "code",
   "execution_count": 74,
   "id": "8ad6b69b-e374-4831-9b5d-d47f07f229b6",
   "metadata": {},
   "outputs": [],
   "source": [
    "# Separate the features and the target variable\n",
    "X = df.drop('Churn Value', axis=1)\n",
    "y = df['Churn Value']"
   ]
  },
  {
   "cell_type": "code",
   "execution_count": 75,
   "id": "24166e45-abe8-402b-9837-7ab31cba4385",
   "metadata": {},
   "outputs": [],
   "source": [
    "# Train-test split\n",
    "from sklearn.model_selection import train_test_split\n",
    "X_train, X_test, y_train, y_test = train_test_split(X, y, test_size=0.1, random_state=42)"
   ]
  },
  {
   "cell_type": "code",
   "execution_count": 76,
   "id": "93f7cacf-4313-40eb-b5f8-63596a423d5c",
   "metadata": {},
   "outputs": [],
   "source": [
    "# Scale the data\n",
    "from sklearn.preprocessing import StandardScaler\n",
    "scaler = StandardScaler()\n",
    "scaled_X_train = scaler.fit_transform(X_train)\n",
    "scaled_X_test = scaler.transform(X_test)"
   ]
  },
  {
   "cell_type": "markdown",
   "id": "6224715c-6fd6-4d77-8c2b-57b12cb8980d",
   "metadata": {},
   "source": [
    "### Logistic Regression"
   ]
  },
  {
   "cell_type": "markdown",
   "id": "fb1fc650-3b86-4a7b-9c2b-8e5cf709eba1",
   "metadata": {},
   "source": [
    "### K-Nearest Neighbors"
   ]
  },
  {
   "cell_type": "markdown",
   "id": "b5f80c5e-02cc-4b6b-85b9-cc08430ab864",
   "metadata": {},
   "source": [
    "### Support Vector Machines (SVM)"
   ]
  },
  {
   "cell_type": "code",
   "execution_count": 80,
   "id": "d70418d1-6bc8-4669-852b-35fea1c5be48",
   "metadata": {},
   "outputs": [],
   "source": [
    "# Instanciate SVM model\n",
    "from sklearn.svm import SVC\n",
    "# The EDA showed the classes were unbalanced\n",
    "# Add weights to alleviate the issue\n",
    "class_weight = {0:3, 1:1}\n",
    "svm = SVC(class_weight=class_weight)"
   ]
  },
  {
   "cell_type": "code",
   "execution_count": 81,
   "id": "1639f965-c143-4048-bf49-02b259fe90fd",
   "metadata": {},
   "outputs": [
    {
     "data": {
      "text/html": [
       "<style>#sk-container-id-1 {\n",
       "  /* Definition of color scheme common for light and dark mode */\n",
       "  --sklearn-color-text: black;\n",
       "  --sklearn-color-line: gray;\n",
       "  /* Definition of color scheme for unfitted estimators */\n",
       "  --sklearn-color-unfitted-level-0: #fff5e6;\n",
       "  --sklearn-color-unfitted-level-1: #f6e4d2;\n",
       "  --sklearn-color-unfitted-level-2: #ffe0b3;\n",
       "  --sklearn-color-unfitted-level-3: chocolate;\n",
       "  /* Definition of color scheme for fitted estimators */\n",
       "  --sklearn-color-fitted-level-0: #f0f8ff;\n",
       "  --sklearn-color-fitted-level-1: #d4ebff;\n",
       "  --sklearn-color-fitted-level-2: #b3dbfd;\n",
       "  --sklearn-color-fitted-level-3: cornflowerblue;\n",
       "\n",
       "  /* Specific color for light theme */\n",
       "  --sklearn-color-text-on-default-background: var(--sg-text-color, var(--theme-code-foreground, var(--jp-content-font-color1, black)));\n",
       "  --sklearn-color-background: var(--sg-background-color, var(--theme-background, var(--jp-layout-color0, white)));\n",
       "  --sklearn-color-border-box: var(--sg-text-color, var(--theme-code-foreground, var(--jp-content-font-color1, black)));\n",
       "  --sklearn-color-icon: #696969;\n",
       "\n",
       "  @media (prefers-color-scheme: dark) {\n",
       "    /* Redefinition of color scheme for dark theme */\n",
       "    --sklearn-color-text-on-default-background: var(--sg-text-color, var(--theme-code-foreground, var(--jp-content-font-color1, white)));\n",
       "    --sklearn-color-background: var(--sg-background-color, var(--theme-background, var(--jp-layout-color0, #111)));\n",
       "    --sklearn-color-border-box: var(--sg-text-color, var(--theme-code-foreground, var(--jp-content-font-color1, white)));\n",
       "    --sklearn-color-icon: #878787;\n",
       "  }\n",
       "}\n",
       "\n",
       "#sk-container-id-1 {\n",
       "  color: var(--sklearn-color-text);\n",
       "}\n",
       "\n",
       "#sk-container-id-1 pre {\n",
       "  padding: 0;\n",
       "}\n",
       "\n",
       "#sk-container-id-1 input.sk-hidden--visually {\n",
       "  border: 0;\n",
       "  clip: rect(1px 1px 1px 1px);\n",
       "  clip: rect(1px, 1px, 1px, 1px);\n",
       "  height: 1px;\n",
       "  margin: -1px;\n",
       "  overflow: hidden;\n",
       "  padding: 0;\n",
       "  position: absolute;\n",
       "  width: 1px;\n",
       "}\n",
       "\n",
       "#sk-container-id-1 div.sk-dashed-wrapped {\n",
       "  border: 1px dashed var(--sklearn-color-line);\n",
       "  margin: 0 0.4em 0.5em 0.4em;\n",
       "  box-sizing: border-box;\n",
       "  padding-bottom: 0.4em;\n",
       "  background-color: var(--sklearn-color-background);\n",
       "}\n",
       "\n",
       "#sk-container-id-1 div.sk-container {\n",
       "  /* jupyter's `normalize.less` sets `[hidden] { display: none; }`\n",
       "     but bootstrap.min.css set `[hidden] { display: none !important; }`\n",
       "     so we also need the `!important` here to be able to override the\n",
       "     default hidden behavior on the sphinx rendered scikit-learn.org.\n",
       "     See: https://github.com/scikit-learn/scikit-learn/issues/21755 */\n",
       "  display: inline-block !important;\n",
       "  position: relative;\n",
       "}\n",
       "\n",
       "#sk-container-id-1 div.sk-text-repr-fallback {\n",
       "  display: none;\n",
       "}\n",
       "\n",
       "div.sk-parallel-item,\n",
       "div.sk-serial,\n",
       "div.sk-item {\n",
       "  /* draw centered vertical line to link estimators */\n",
       "  background-image: linear-gradient(var(--sklearn-color-text-on-default-background), var(--sklearn-color-text-on-default-background));\n",
       "  background-size: 2px 100%;\n",
       "  background-repeat: no-repeat;\n",
       "  background-position: center center;\n",
       "}\n",
       "\n",
       "/* Parallel-specific style estimator block */\n",
       "\n",
       "#sk-container-id-1 div.sk-parallel-item::after {\n",
       "  content: \"\";\n",
       "  width: 100%;\n",
       "  border-bottom: 2px solid var(--sklearn-color-text-on-default-background);\n",
       "  flex-grow: 1;\n",
       "}\n",
       "\n",
       "#sk-container-id-1 div.sk-parallel {\n",
       "  display: flex;\n",
       "  align-items: stretch;\n",
       "  justify-content: center;\n",
       "  background-color: var(--sklearn-color-background);\n",
       "  position: relative;\n",
       "}\n",
       "\n",
       "#sk-container-id-1 div.sk-parallel-item {\n",
       "  display: flex;\n",
       "  flex-direction: column;\n",
       "}\n",
       "\n",
       "#sk-container-id-1 div.sk-parallel-item:first-child::after {\n",
       "  align-self: flex-end;\n",
       "  width: 50%;\n",
       "}\n",
       "\n",
       "#sk-container-id-1 div.sk-parallel-item:last-child::after {\n",
       "  align-self: flex-start;\n",
       "  width: 50%;\n",
       "}\n",
       "\n",
       "#sk-container-id-1 div.sk-parallel-item:only-child::after {\n",
       "  width: 0;\n",
       "}\n",
       "\n",
       "/* Serial-specific style estimator block */\n",
       "\n",
       "#sk-container-id-1 div.sk-serial {\n",
       "  display: flex;\n",
       "  flex-direction: column;\n",
       "  align-items: center;\n",
       "  background-color: var(--sklearn-color-background);\n",
       "  padding-right: 1em;\n",
       "  padding-left: 1em;\n",
       "}\n",
       "\n",
       "\n",
       "/* Toggleable style: style used for estimator/Pipeline/ColumnTransformer box that is\n",
       "clickable and can be expanded/collapsed.\n",
       "- Pipeline and ColumnTransformer use this feature and define the default style\n",
       "- Estimators will overwrite some part of the style using the `sk-estimator` class\n",
       "*/\n",
       "\n",
       "/* Pipeline and ColumnTransformer style (default) */\n",
       "\n",
       "#sk-container-id-1 div.sk-toggleable {\n",
       "  /* Default theme specific background. It is overwritten whether we have a\n",
       "  specific estimator or a Pipeline/ColumnTransformer */\n",
       "  background-color: var(--sklearn-color-background);\n",
       "}\n",
       "\n",
       "/* Toggleable label */\n",
       "#sk-container-id-1 label.sk-toggleable__label {\n",
       "  cursor: pointer;\n",
       "  display: block;\n",
       "  width: 100%;\n",
       "  margin-bottom: 0;\n",
       "  padding: 0.5em;\n",
       "  box-sizing: border-box;\n",
       "  text-align: center;\n",
       "}\n",
       "\n",
       "#sk-container-id-1 label.sk-toggleable__label-arrow:before {\n",
       "  /* Arrow on the left of the label */\n",
       "  content: \"▸\";\n",
       "  float: left;\n",
       "  margin-right: 0.25em;\n",
       "  color: var(--sklearn-color-icon);\n",
       "}\n",
       "\n",
       "#sk-container-id-1 label.sk-toggleable__label-arrow:hover:before {\n",
       "  color: var(--sklearn-color-text);\n",
       "}\n",
       "\n",
       "/* Toggleable content - dropdown */\n",
       "\n",
       "#sk-container-id-1 div.sk-toggleable__content {\n",
       "  max-height: 0;\n",
       "  max-width: 0;\n",
       "  overflow: hidden;\n",
       "  text-align: left;\n",
       "  /* unfitted */\n",
       "  background-color: var(--sklearn-color-unfitted-level-0);\n",
       "}\n",
       "\n",
       "#sk-container-id-1 div.sk-toggleable__content.fitted {\n",
       "  /* fitted */\n",
       "  background-color: var(--sklearn-color-fitted-level-0);\n",
       "}\n",
       "\n",
       "#sk-container-id-1 div.sk-toggleable__content pre {\n",
       "  margin: 0.2em;\n",
       "  border-radius: 0.25em;\n",
       "  color: var(--sklearn-color-text);\n",
       "  /* unfitted */\n",
       "  background-color: var(--sklearn-color-unfitted-level-0);\n",
       "}\n",
       "\n",
       "#sk-container-id-1 div.sk-toggleable__content.fitted pre {\n",
       "  /* unfitted */\n",
       "  background-color: var(--sklearn-color-fitted-level-0);\n",
       "}\n",
       "\n",
       "#sk-container-id-1 input.sk-toggleable__control:checked~div.sk-toggleable__content {\n",
       "  /* Expand drop-down */\n",
       "  max-height: 200px;\n",
       "  max-width: 100%;\n",
       "  overflow: auto;\n",
       "}\n",
       "\n",
       "#sk-container-id-1 input.sk-toggleable__control:checked~label.sk-toggleable__label-arrow:before {\n",
       "  content: \"▾\";\n",
       "}\n",
       "\n",
       "/* Pipeline/ColumnTransformer-specific style */\n",
       "\n",
       "#sk-container-id-1 div.sk-label input.sk-toggleable__control:checked~label.sk-toggleable__label {\n",
       "  color: var(--sklearn-color-text);\n",
       "  background-color: var(--sklearn-color-unfitted-level-2);\n",
       "}\n",
       "\n",
       "#sk-container-id-1 div.sk-label.fitted input.sk-toggleable__control:checked~label.sk-toggleable__label {\n",
       "  background-color: var(--sklearn-color-fitted-level-2);\n",
       "}\n",
       "\n",
       "/* Estimator-specific style */\n",
       "\n",
       "/* Colorize estimator box */\n",
       "#sk-container-id-1 div.sk-estimator input.sk-toggleable__control:checked~label.sk-toggleable__label {\n",
       "  /* unfitted */\n",
       "  background-color: var(--sklearn-color-unfitted-level-2);\n",
       "}\n",
       "\n",
       "#sk-container-id-1 div.sk-estimator.fitted input.sk-toggleable__control:checked~label.sk-toggleable__label {\n",
       "  /* fitted */\n",
       "  background-color: var(--sklearn-color-fitted-level-2);\n",
       "}\n",
       "\n",
       "#sk-container-id-1 div.sk-label label.sk-toggleable__label,\n",
       "#sk-container-id-1 div.sk-label label {\n",
       "  /* The background is the default theme color */\n",
       "  color: var(--sklearn-color-text-on-default-background);\n",
       "}\n",
       "\n",
       "/* On hover, darken the color of the background */\n",
       "#sk-container-id-1 div.sk-label:hover label.sk-toggleable__label {\n",
       "  color: var(--sklearn-color-text);\n",
       "  background-color: var(--sklearn-color-unfitted-level-2);\n",
       "}\n",
       "\n",
       "/* Label box, darken color on hover, fitted */\n",
       "#sk-container-id-1 div.sk-label.fitted:hover label.sk-toggleable__label.fitted {\n",
       "  color: var(--sklearn-color-text);\n",
       "  background-color: var(--sklearn-color-fitted-level-2);\n",
       "}\n",
       "\n",
       "/* Estimator label */\n",
       "\n",
       "#sk-container-id-1 div.sk-label label {\n",
       "  font-family: monospace;\n",
       "  font-weight: bold;\n",
       "  display: inline-block;\n",
       "  line-height: 1.2em;\n",
       "}\n",
       "\n",
       "#sk-container-id-1 div.sk-label-container {\n",
       "  text-align: center;\n",
       "}\n",
       "\n",
       "/* Estimator-specific */\n",
       "#sk-container-id-1 div.sk-estimator {\n",
       "  font-family: monospace;\n",
       "  border: 1px dotted var(--sklearn-color-border-box);\n",
       "  border-radius: 0.25em;\n",
       "  box-sizing: border-box;\n",
       "  margin-bottom: 0.5em;\n",
       "  /* unfitted */\n",
       "  background-color: var(--sklearn-color-unfitted-level-0);\n",
       "}\n",
       "\n",
       "#sk-container-id-1 div.sk-estimator.fitted {\n",
       "  /* fitted */\n",
       "  background-color: var(--sklearn-color-fitted-level-0);\n",
       "}\n",
       "\n",
       "/* on hover */\n",
       "#sk-container-id-1 div.sk-estimator:hover {\n",
       "  /* unfitted */\n",
       "  background-color: var(--sklearn-color-unfitted-level-2);\n",
       "}\n",
       "\n",
       "#sk-container-id-1 div.sk-estimator.fitted:hover {\n",
       "  /* fitted */\n",
       "  background-color: var(--sklearn-color-fitted-level-2);\n",
       "}\n",
       "\n",
       "/* Specification for estimator info (e.g. \"i\" and \"?\") */\n",
       "\n",
       "/* Common style for \"i\" and \"?\" */\n",
       "\n",
       ".sk-estimator-doc-link,\n",
       "a:link.sk-estimator-doc-link,\n",
       "a:visited.sk-estimator-doc-link {\n",
       "  float: right;\n",
       "  font-size: smaller;\n",
       "  line-height: 1em;\n",
       "  font-family: monospace;\n",
       "  background-color: var(--sklearn-color-background);\n",
       "  border-radius: 1em;\n",
       "  height: 1em;\n",
       "  width: 1em;\n",
       "  text-decoration: none !important;\n",
       "  margin-left: 1ex;\n",
       "  /* unfitted */\n",
       "  border: var(--sklearn-color-unfitted-level-1) 1pt solid;\n",
       "  color: var(--sklearn-color-unfitted-level-1);\n",
       "}\n",
       "\n",
       ".sk-estimator-doc-link.fitted,\n",
       "a:link.sk-estimator-doc-link.fitted,\n",
       "a:visited.sk-estimator-doc-link.fitted {\n",
       "  /* fitted */\n",
       "  border: var(--sklearn-color-fitted-level-1) 1pt solid;\n",
       "  color: var(--sklearn-color-fitted-level-1);\n",
       "}\n",
       "\n",
       "/* On hover */\n",
       "div.sk-estimator:hover .sk-estimator-doc-link:hover,\n",
       ".sk-estimator-doc-link:hover,\n",
       "div.sk-label-container:hover .sk-estimator-doc-link:hover,\n",
       ".sk-estimator-doc-link:hover {\n",
       "  /* unfitted */\n",
       "  background-color: var(--sklearn-color-unfitted-level-3);\n",
       "  color: var(--sklearn-color-background);\n",
       "  text-decoration: none;\n",
       "}\n",
       "\n",
       "div.sk-estimator.fitted:hover .sk-estimator-doc-link.fitted:hover,\n",
       ".sk-estimator-doc-link.fitted:hover,\n",
       "div.sk-label-container:hover .sk-estimator-doc-link.fitted:hover,\n",
       ".sk-estimator-doc-link.fitted:hover {\n",
       "  /* fitted */\n",
       "  background-color: var(--sklearn-color-fitted-level-3);\n",
       "  color: var(--sklearn-color-background);\n",
       "  text-decoration: none;\n",
       "}\n",
       "\n",
       "/* Span, style for the box shown on hovering the info icon */\n",
       ".sk-estimator-doc-link span {\n",
       "  display: none;\n",
       "  z-index: 9999;\n",
       "  position: relative;\n",
       "  font-weight: normal;\n",
       "  right: .2ex;\n",
       "  padding: .5ex;\n",
       "  margin: .5ex;\n",
       "  width: min-content;\n",
       "  min-width: 20ex;\n",
       "  max-width: 50ex;\n",
       "  color: var(--sklearn-color-text);\n",
       "  box-shadow: 2pt 2pt 4pt #999;\n",
       "  /* unfitted */\n",
       "  background: var(--sklearn-color-unfitted-level-0);\n",
       "  border: .5pt solid var(--sklearn-color-unfitted-level-3);\n",
       "}\n",
       "\n",
       ".sk-estimator-doc-link.fitted span {\n",
       "  /* fitted */\n",
       "  background: var(--sklearn-color-fitted-level-0);\n",
       "  border: var(--sklearn-color-fitted-level-3);\n",
       "}\n",
       "\n",
       ".sk-estimator-doc-link:hover span {\n",
       "  display: block;\n",
       "}\n",
       "\n",
       "/* \"?\"-specific style due to the `<a>` HTML tag */\n",
       "\n",
       "#sk-container-id-1 a.estimator_doc_link {\n",
       "  float: right;\n",
       "  font-size: 1rem;\n",
       "  line-height: 1em;\n",
       "  font-family: monospace;\n",
       "  background-color: var(--sklearn-color-background);\n",
       "  border-radius: 1rem;\n",
       "  height: 1rem;\n",
       "  width: 1rem;\n",
       "  text-decoration: none;\n",
       "  /* unfitted */\n",
       "  color: var(--sklearn-color-unfitted-level-1);\n",
       "  border: var(--sklearn-color-unfitted-level-1) 1pt solid;\n",
       "}\n",
       "\n",
       "#sk-container-id-1 a.estimator_doc_link.fitted {\n",
       "  /* fitted */\n",
       "  border: var(--sklearn-color-fitted-level-1) 1pt solid;\n",
       "  color: var(--sklearn-color-fitted-level-1);\n",
       "}\n",
       "\n",
       "/* On hover */\n",
       "#sk-container-id-1 a.estimator_doc_link:hover {\n",
       "  /* unfitted */\n",
       "  background-color: var(--sklearn-color-unfitted-level-3);\n",
       "  color: var(--sklearn-color-background);\n",
       "  text-decoration: none;\n",
       "}\n",
       "\n",
       "#sk-container-id-1 a.estimator_doc_link.fitted:hover {\n",
       "  /* fitted */\n",
       "  background-color: var(--sklearn-color-fitted-level-3);\n",
       "}\n",
       "</style><div id=\"sk-container-id-1\" class=\"sk-top-container\"><div class=\"sk-text-repr-fallback\"><pre>GridSearchCV(estimator=SVC(class_weight={0: 3, 1: 1}),\n",
       "             param_grid={&#x27;C&#x27;: [0.001, 0.01, 0.1, 1], &#x27;degree&#x27;: [1, 2],\n",
       "                         &#x27;gamma&#x27;: [&#x27;scale&#x27;, &#x27;auto&#x27;],\n",
       "                         &#x27;kernel&#x27;: [&#x27;linear&#x27;, &#x27;rbf&#x27;, &#x27;poly&#x27;]})</pre><b>In a Jupyter environment, please rerun this cell to show the HTML representation or trust the notebook. <br />On GitHub, the HTML representation is unable to render, please try loading this page with nbviewer.org.</b></div><div class=\"sk-container\" hidden><div class=\"sk-item sk-dashed-wrapped\"><div class=\"sk-label-container\"><div class=\"sk-label fitted sk-toggleable\"><input class=\"sk-toggleable__control sk-hidden--visually\" id=\"sk-estimator-id-1\" type=\"checkbox\" ><label for=\"sk-estimator-id-1\" class=\"sk-toggleable__label fitted sk-toggleable__label-arrow fitted\">&nbsp;&nbsp;GridSearchCV<a class=\"sk-estimator-doc-link fitted\" rel=\"noreferrer\" target=\"_blank\" href=\"https://scikit-learn.org/1.4/modules/generated/sklearn.model_selection.GridSearchCV.html\">?<span>Documentation for GridSearchCV</span></a><span class=\"sk-estimator-doc-link fitted\">i<span>Fitted</span></span></label><div class=\"sk-toggleable__content fitted\"><pre>GridSearchCV(estimator=SVC(class_weight={0: 3, 1: 1}),\n",
       "             param_grid={&#x27;C&#x27;: [0.001, 0.01, 0.1, 1], &#x27;degree&#x27;: [1, 2],\n",
       "                         &#x27;gamma&#x27;: [&#x27;scale&#x27;, &#x27;auto&#x27;],\n",
       "                         &#x27;kernel&#x27;: [&#x27;linear&#x27;, &#x27;rbf&#x27;, &#x27;poly&#x27;]})</pre></div> </div></div><div class=\"sk-parallel\"><div class=\"sk-parallel-item\"><div class=\"sk-item\"><div class=\"sk-label-container\"><div class=\"sk-label fitted sk-toggleable\"><input class=\"sk-toggleable__control sk-hidden--visually\" id=\"sk-estimator-id-2\" type=\"checkbox\" ><label for=\"sk-estimator-id-2\" class=\"sk-toggleable__label fitted sk-toggleable__label-arrow fitted\">estimator: SVC</label><div class=\"sk-toggleable__content fitted\"><pre>SVC(class_weight={0: 3, 1: 1})</pre></div> </div></div><div class=\"sk-serial\"><div class=\"sk-item\"><div class=\"sk-estimator fitted sk-toggleable\"><input class=\"sk-toggleable__control sk-hidden--visually\" id=\"sk-estimator-id-3\" type=\"checkbox\" ><label for=\"sk-estimator-id-3\" class=\"sk-toggleable__label fitted sk-toggleable__label-arrow fitted\">&nbsp;SVC<a class=\"sk-estimator-doc-link fitted\" rel=\"noreferrer\" target=\"_blank\" href=\"https://scikit-learn.org/1.4/modules/generated/sklearn.svm.SVC.html\">?<span>Documentation for SVC</span></a></label><div class=\"sk-toggleable__content fitted\"><pre>SVC(class_weight={0: 3, 1: 1})</pre></div> </div></div></div></div></div></div></div></div></div>"
      ],
      "text/plain": [
       "GridSearchCV(estimator=SVC(class_weight={0: 3, 1: 1}),\n",
       "             param_grid={'C': [0.001, 0.01, 0.1, 1], 'degree': [1, 2],\n",
       "                         'gamma': ['scale', 'auto'],\n",
       "                         'kernel': ['linear', 'rbf', 'poly']})"
      ]
     },
     "execution_count": 81,
     "metadata": {},
     "output_type": "execute_result"
    }
   ],
   "source": [
    "# Use grid search in attempt to find the best performing model\n",
    "from sklearn.model_selection import GridSearchCV\n",
    "\n",
    "param_grid = {\n",
    "    'C': [0.001, 0.01, 0.1, 1],\n",
    "    'kernel': ['linear', 'rbf', 'poly'],\n",
    "    'degree': [1, 2],\n",
    "    'gamma': ['scale', 'auto']\n",
    "}\n",
    "\n",
    "grid = GridSearchCV(svm, param_grid)\n",
    "grid.fit(scaled_X_train, y_train)"
   ]
  },
  {
   "cell_type": "code",
   "execution_count": 82,
   "id": "f3a0c94f-b818-4e6d-929e-e05bcec38b26",
   "metadata": {},
   "outputs": [
    {
     "data": {
      "text/plain": [
       "0.9031235761467388"
      ]
     },
     "execution_count": 82,
     "metadata": {},
     "output_type": "execute_result"
    }
   ],
   "source": [
    "# Best accuracy score\n",
    "grid.best_score_"
   ]
  },
  {
   "cell_type": "code",
   "execution_count": 83,
   "id": "e6d61f18-9dd0-44a0-bec2-ef5da9b95a4f",
   "metadata": {},
   "outputs": [
    {
     "data": {
      "text/plain": [
       "{'C': 1, 'degree': 1, 'gamma': 'scale', 'kernel': 'rbf'}"
      ]
     },
     "execution_count": 83,
     "metadata": {},
     "output_type": "execute_result"
    }
   ],
   "source": [
    "# Best parameters\n",
    "grid.best_params_"
   ]
  },
  {
   "cell_type": "code",
   "execution_count": 156,
   "id": "742c8eea-7a4e-46fc-b9ae-05e6b2eb16e4",
   "metadata": {},
   "outputs": [
    {
     "data": {
      "image/png": "[encoded data removed]",
      "text/plain": [
       "<Figure size 1200x600 with 2 Axes>"
      ]
     },
     "metadata": {},
     "output_type": "display_data"
    }
   ],
   "source": [
    "# Confusion matrix\n",
    "from sklearn.metrics import classification_report, confusion_matrix, ConfusionMatrixDisplay\n",
    "y_pred = grid.predict(scaled_X_test)\n",
    "\n",
    "plt.rcParams['axes.grid'] = False\n",
    "cm = confusion_matrix(y_test, y_pred)\n",
    "disp = ConfusionMatrixDisplay(cm, display_labels=grid.classes_)\n",
    "disp.plot();"
   ]
  },
  {
   "cell_type": "code",
   "execution_count": 85,
   "id": "d132c308-2b85-4bf2-9245-2de98e41ea07",
   "metadata": {},
   "outputs": [
    {
     "name": "stdout",
     "output_type": "stream",
     "text": [
      "              precision    recall  f1-score   support\n",
      "\n",
      "           0       0.88      0.97      0.92       513\n",
      "           1       0.90      0.65      0.76       192\n",
      "\n",
      "    accuracy                           0.89       705\n",
      "   macro avg       0.89      0.81      0.84       705\n",
      "weighted avg       0.89      0.89      0.88       705\n",
      "\n"
     ]
    }
   ],
   "source": [
    "# Classification report\n",
    "report = classification_report(y_test, y_pred)\n",
    "print(report)"
   ]
  },
  {
   "cell_type": "markdown",
   "id": "c885a763-6d67-4ac5-8e1e-0cd19e79db36",
   "metadata": {},
   "source": [
    "### Make Predictions"
   ]
  },
  {
   "cell_type": "markdown",
   "id": "b7a476b5-fdbe-422d-a24e-1e6462bcad5c",
   "metadata": {},
   "source": [
    "## End"
   ]
  }
 ],
 "metadata": {
  "kernelspec": {
   "display_name": "Python 3 (ipykernel)",
   "language": "python",
   "name": "python3"
  },
  "language_info": {
   "codemirror_mode": {
    "name": "ipython",
    "version": 3
   },
   "file_extension": ".py",
   "mimetype": "text/x-python",
   "name": "python",
   "nbconvert_exporter": "python",
   "pygments_lexer": "ipython3",
   "version": "3.12.4"
  }
 },
 "nbformat": 4,
 "nbformat_minor": 5
}
